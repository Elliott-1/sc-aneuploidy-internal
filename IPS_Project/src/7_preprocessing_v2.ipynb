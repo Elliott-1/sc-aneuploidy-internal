{
 "cells": [
  {
   "cell_type": "code",
   "execution_count": 2,
   "id": "47e20a4f-493e-472b-a537-350ebbc821fd",
   "metadata": {},
   "outputs": [],
   "source": [
    "### Preprocessing\n",
    "# Check to make sure only have XX and XXY samples and they're correctly labeled\n",
    "\n",
    "import argparse\n",
    "import glob\n",
    "import subprocess\n",
    "import pysam\n",
    "import pandas as pd\n",
    "import random\n",
    "import matplotlib.pyplot as plt\n",
    "from ast import literal_eval\n",
    "import seaborn as sns\n",
    "import scipy.stats as stats\n"
   ]
  },
  {
   "cell_type": "code",
   "execution_count": 3,
   "id": "527211ae-a79a-48d5-a551-cb50ba765acb",
   "metadata": {},
   "outputs": [],
   "source": [
    "npc_df = pd.read_csv(\"/net/noble/vol1/home/es1/ips_project/NPC_validation_combined_data_v2.csv\")\n",
    "npc_geno = pd.read_csv(\"/net/noble/vol1/home/es1/ips_project/NPC_Cardio_genotype/NPC_sample_list.txt\")\n",
    "\n",
    "# Filter npc_df where 'cell_barcode' matches values in NPC_geno['Sample_name']\n",
    "filtered_npc_df = npc_df[npc_df['cell_barcode'].isin(npc_geno['Sample_name'])]\n",
    "\n",
    "# Merge npc_df with NPC_geno to transfer the 'Genotype' column\n",
    "filtered_npc_df_geno = filtered_npc_df.merge(npc_geno, how='left', left_on='cell_barcode', right_on='Sample_name')\n",
    "\n",
    "\n"
   ]
  },
  {
   "cell_type": "code",
   "execution_count": 4,
   "id": "26c0bab6-46bb-42ff-b546-9ebc61430d44",
   "metadata": {},
   "outputs": [],
   "source": [
    "cardio_df = pd.read_csv(\"/net/noble/vol1/home/es1/ips_project/Cardiomyocytes_validation_combined_data_v2.csv\")\n",
    "cardio_geno = pd.read_csv(\"/net/noble/vol1/home/es1/ips_project/NPC_Cardio_genotype/Cardiomyocytes_sample_list.txt\")\n",
    "filtered_cardio_df = cardio_df[cardio_df['cell_barcode'].isin(cardio_geno['Sample_name'])]\n",
    "filtered_cardio_df_geno = filtered_cardio_df.merge(cardio_geno, how='left', left_on='cell_barcode', right_on='Sample_name')\n"
   ]
  },
  {
   "cell_type": "code",
   "execution_count": 34,
   "id": "674b268e-e653-40de-af7f-8db83d4c0818",
   "metadata": {},
   "outputs": [],
   "source": [
    "filtered_npc_df_geno.to_csv(\"/net/noble/vol1/home/es1/ips_project/NPC_intermediate.csv\")\n",
    "\n",
    "\n"
   ]
  },
  {
   "cell_type": "code",
   "execution_count": 5,
   "id": "3ba1e644-e058-4bad-aa2b-e1bc9ef72898",
   "metadata": {},
   "outputs": [
    {
     "data": {
      "text/plain": [
       "Index(['SNP_ID', 'CHR', 'POS', 'REF', 'ALT', 'cell_barcode', 'REFcount',\n",
       "       'ALTcount', 'OTHcount', 'Region', 'Gene', 'ALL_Freq', 'Sample_name',\n",
       "       'Genotype'],\n",
       "      dtype='object')"
      ]
     },
     "execution_count": 5,
     "metadata": {},
     "output_type": "execute_result"
    }
   ],
   "source": [
    "filtered_npc_df_geno.columns"
   ]
  },
  {
   "cell_type": "code",
   "execution_count": 6,
   "id": "3448a033-24de-4071-8ac0-248969bd36e4",
   "metadata": {},
   "outputs": [],
   "source": [
    "replicate_pairs = [[\"XXY_X5_a_S2\",\"XXY_X5_b_S3\"], [\"F11_1_S7\",\"F11_1A_S7\"], [\"F12_1_S8\",\"F12_1A_S8\"], [\"X4-2_S1\",\"X4_2_new_S7\"]]\n",
    "\n"
   ]
  },
  {
   "cell_type": "code",
   "execution_count": 7,
   "id": "08cfbb97-d1f2-44ad-898d-d91d01ae9fdb",
   "metadata": {},
   "outputs": [],
   "source": [
    "# Create a copy of the original dataframe to work on\n",
    "npc_df_no_reps = filtered_npc_df_geno.copy()\n",
    "\n",
    "# Iterate over each pair of Sample_names\n",
    "for sample_pair in replicate_pairs:\n",
    "    sample1, sample2 = sample_pair\n",
    "    \n",
    "    # Filter rows for each sample\n",
    "    df_sample1 = npc_df_no_reps[npc_df_no_reps['Sample_name'] == sample1]\n",
    "    df_sample2 = npc_df_no_reps[npc_df_no_reps['Sample_name'] == sample2]\n",
    "    \n",
    "    # Find common SNP_IDs\n",
    "    common_snps = pd.merge(df_sample1, df_sample2, on='SNP_ID', suffixes=('_1', '_2'))\n",
    "    \n",
    "    # Sum REFcount, ALTcount, and OTHcount for common SNP_IDs\n",
    "    common_snps['REFcount'] = common_snps['REFcount_1'] + common_snps['REFcount_2']\n",
    "    common_snps['ALTcount'] = common_snps['ALTcount_1'] + common_snps['ALTcount_2']\n",
    "    common_snps['OTHcount'] = common_snps['OTHcount_1'] + common_snps['OTHcount_2']\n",
    "    \n",
    "    # Merge summed counts back to the original dataframe (replace existing REFcount, ALTcount, OTHcount)\n",
    "    npc_df_no_reps.loc[\n",
    "        (npc_df_no_reps['Sample_name'] == sample1) & (npc_df_no_reps['SNP_ID'].isin(common_snps['SNP_ID'])),\n",
    "        ['REFcount', 'ALTcount', 'OTHcount']\n",
    "    ] = common_snps[['REFcount', 'ALTcount', 'OTHcount']].values\n",
    "    \n",
    "    # Remove the row for sample2 from the main dataframe\n",
    "    npc_df_no_reps = npc_df_no_reps[~((npc_df_no_reps['Sample_name'] == sample2) & \n",
    "                                      (npc_df_no_reps['SNP_ID'].isin(common_snps['SNP_ID'])))]\n",
    "    \n",
    "# Reset the index after modifications\n",
    "npc_df_no_reps.reset_index(drop=True, inplace=True)"
   ]
  },
  {
   "cell_type": "code",
   "execution_count": 8,
   "id": "41298541-ea13-4589-a311-7f5d7f846ce2",
   "metadata": {},
   "outputs": [],
   "source": [
    "# Iterate over each pair of Sample_names in replicate_pairs\n",
    "for sample_pair in replicate_pairs:\n",
    "    sample1, sample2 = sample_pair\n",
    "    combined_sample_name = f\"{sample1}_{sample2}\"  # Combine the two sample names\n",
    "    \n",
    "    # Replace Sample_name in npc_df_no_reps if it's sample1 or sample2\n",
    "    npc_df_no_reps['Sample_name'] = npc_df_no_reps['Sample_name'].replace({sample1: combined_sample_name, sample2: combined_sample_name})\n"
   ]
  },
  {
   "cell_type": "code",
   "execution_count": 9,
   "id": "32adc0b4-6459-4df5-bb21-0127afc22b8c",
   "metadata": {},
   "outputs": [],
   "source": [
    "npc_df_no_reps[\"Cell_type\"] = \"NPC\""
   ]
  },
  {
   "cell_type": "code",
   "execution_count": 10,
   "id": "7571e8cd-916a-4ece-9033-73c8181a5bef",
   "metadata": {},
   "outputs": [],
   "source": [
    "filtered_cardio_df_geno[\"Cell_type\"] = \"Cardiomyocyte\""
   ]
  },
  {
   "cell_type": "code",
   "execution_count": 11,
   "id": "569e890c-51e4-4716-b6d6-c42678d22278",
   "metadata": {},
   "outputs": [],
   "source": [
    "combined_NPC_cardio = pd.concat([npc_df_no_reps, filtered_cardio_df_geno], ignore_index=True)\n",
    "\n"
   ]
  },
  {
   "cell_type": "code",
   "execution_count": 12,
   "id": "48f2d10a-47f2-4814-8d94-1b25eaa74537",
   "metadata": {},
   "outputs": [],
   "source": [
    "# Function to extract donor name\n",
    "def extract_donor(cell_barcode):\n",
    "    parts = cell_barcode.replace('-', '_').split('_')  # Normalize delimiters\n",
    "    return parts[1] if parts[0] == 'XXY' else parts[0]"
   ]
  },
  {
   "cell_type": "code",
   "execution_count": 13,
   "id": "02c327cd-e04b-4dd2-9347-4b66dbb16a8e",
   "metadata": {},
   "outputs": [],
   "source": [
    "# Apply function to create new column\n",
    "combined_NPC_cardio['Donor'] = combined_NPC_cardio['cell_barcode'].apply(extract_donor)\n",
    "\n"
   ]
  },
  {
   "cell_type": "code",
   "execution_count": 14,
   "id": "7604d6cf-032a-4e4a-b474-2590dc8e1ca5",
   "metadata": {},
   "outputs": [
    {
     "data": {
      "text/plain": [
       "8"
      ]
     },
     "execution_count": 14,
     "metadata": {},
     "output_type": "execute_result"
    }
   ],
   "source": []
  },
  {
   "cell_type": "code",
   "execution_count": null,
   "id": "f7bc14dd-01c2-4751-9ade-50db8d0d4845",
   "metadata": {},
   "outputs": [],
   "source": []
  },
  {
   "cell_type": "code",
   "execution_count": 15,
   "id": "47318246-030f-47fc-a385-de4e1ed84548",
   "metadata": {},
   "outputs": [],
   "source": [
    "gene_xci_status = pd.read_csv(\"/net/noble/vol1/home/es1/ips_project/Stranger_gene_XCI_status.csv\")\n",
    "\n",
    "gene_xci_status = gene_xci_status[~((gene_xci_status['Gene Name'] == 'AP1S2') & \n",
    "                                    (gene_xci_status['X inactivation status'] == 'inactivated'))]\n",
    "\n",
    "combined_df_gene = combined_NPC_cardio.merge(gene_xci_status, how='left', left_on='Gene', right_on='Gene Name')\n"
   ]
  },
  {
   "cell_type": "code",
   "execution_count": 46,
   "id": "04a26660-a383-44db-a453-128a449c6d81",
   "metadata": {},
   "outputs": [],
   "source": [
    "combined_df_gene.to_csv(\"/net/noble/vol1/home/es1/ips_project/combined_NPC_cardio_v2.csv\", index=False)\n",
    "\n"
   ]
  }
 ],
 "metadata": {
  "kernelspec": {
   "display_name": "Python 3 (ipykernel)",
   "language": "python",
   "name": "python3"
  },
  "language_info": {
   "codemirror_mode": {
    "name": "ipython",
    "version": 3
   },
   "file_extension": ".py",
   "mimetype": "text/x-python",
   "name": "python",
   "nbconvert_exporter": "python",
   "pygments_lexer": "ipython3",
   "version": "3.12.2"
  }
 },
 "nbformat": 4,
 "nbformat_minor": 5
}
