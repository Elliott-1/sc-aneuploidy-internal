{
 "cells": [
  {
   "cell_type": "code",
   "execution_count": 1,
   "id": "ac6b93d5-389c-4925-96c0-9b8956710aa5",
   "metadata": {},
   "outputs": [],
   "source": [
    "# Transfers scanorama labels from hvg adata to all gene adata"
   ]
  },
  {
   "cell_type": "code",
   "execution_count": 43,
   "id": "13ff4e70-7412-49d4-9750-f1e39b0e4812",
   "metadata": {
    "editable": true,
    "slideshow": {
     "slide_type": ""
    },
    "tags": []
   },
   "outputs": [],
   "source": [
    "import scanpy as sc\n",
    "import anndata as ad\n",
    "import pandas as pd\n",
    "from scipy.sparse import csr_matrix, vstack\n",
    "import random\n",
    "import numpy as np\n",
    "import random\n",
    "from scipy.io import mmread, mmwrite\n",
    "from sklearn.neighbors import NearestNeighbors\n",
    "import plotly.graph_objects as go\n",
    "import igraph\n",
    "import seaborn as sns\n",
    "import matplotlib.pyplot as plt"
   ]
  },
  {
   "cell_type": "code",
   "execution_count": 44,
   "id": "6973a2c9-d20b-4448-93fa-ff00da680eff",
   "metadata": {
    "editable": true,
    "slideshow": {
     "slide_type": ""
    },
    "tags": []
   },
   "outputs": [],
   "source": [
    "hvg_adata = ad.read_h5ad('data/scanorama_integrated_leiden_hvg.h5ad')"
   ]
  },
  {
   "cell_type": "code",
   "execution_count": 48,
   "id": "3f72a64c",
   "metadata": {},
   "outputs": [],
   "source": [
    "# Strip the last two characters of the index\n",
    "hvg_adata.obs.index = hvg_adata.obs.index.str[:-2]"
   ]
  },
  {
   "cell_type": "code",
   "execution_count": 49,
   "id": "5cd6f111-ee40-4a85-a8d2-6448296046b2",
   "metadata": {},
   "outputs": [],
   "source": [
    "ag_adata = ad.read_h5ad('data/original_raw.h5ad')"
   ]
  },
  {
   "cell_type": "code",
   "execution_count": 50,
   "id": "23ccba2c-e816-4afa-9d0e-fd6e79b67e9b",
   "metadata": {},
   "outputs": [
    {
     "name": "stderr",
     "output_type": "stream",
     "text": [
      "c:\\Users\\Elliott\\AppData\\Local\\Programs\\Python\\Python39\\lib\\site-packages\\anndata\\_core\\anndata.py:1113: FutureWarning: is_categorical_dtype is deprecated and will be removed in a future version. Use isinstance(dtype, CategoricalDtype) instead\n",
      "  if not is_categorical_dtype(df_full[k]):\n"
     ]
    }
   ],
   "source": [
    "ag_adata_fil = ag_adata[((ag_adata.obs[\"n.umi\"] >= 250) & (ag_adata.obs[\"n.umi\"] <= 10000)) | (ag_adata.obs[\"origin\"] == \"Cao\")]\n",
    "hvg_adata_fil = hvg_adata[((hvg_adata.obs[\"n.umi\"] >= 250) & (hvg_adata.obs[\"n.umi\"] <= 10000)) | (hvg_adata.obs[\"origin\"] == \"Cao\")]"
   ]
  },
  {
   "cell_type": "code",
   "execution_count": 51,
   "id": "c7e8f2f9",
   "metadata": {},
   "outputs": [],
   "source": [
    "indices_to_keep = hvg_adata_fil.obs.index\n",
    "# Subset adata_1 to keep only the cells in adata_2\n",
    "ag_adata_fil = ag_adata_fil[indices_to_keep]"
   ]
  },
  {
   "cell_type": "code",
   "execution_count": 60,
   "id": "4b54c859",
   "metadata": {},
   "outputs": [
    {
     "data": {
      "text/plain": [
       "True"
      ]
     },
     "execution_count": 60,
     "metadata": {},
     "output_type": "execute_result"
    }
   ],
   "source": [
    "ag_adata_fil.obs.index.equals(hvg_adata_fil.obs.index)"
   ]
  },
  {
   "cell_type": "code",
   "execution_count": 61,
   "id": "e445e401",
   "metadata": {},
   "outputs": [
    {
     "name": "stderr",
     "output_type": "stream",
     "text": [
      "C:\\Users\\Elliott\\AppData\\Local\\Temp\\ipykernel_23616\\1446823653.py:1: ImplicitModificationWarning: Trying to modify attribute `.obs` of view, initializing view as actual.\n",
      "  ag_adata_fil.obs[\"leiden\"] = hvg_adata_fil.obs[\"leiden\"].values\n"
     ]
    }
   ],
   "source": [
    "ag_adata_fil.obs[\"leiden\"] = hvg_adata_fil.obs[\"leiden\"].values\n",
    "ag_adata_fil.obsm = hvg_adata_fil.obsm\n",
    "ag_adata_fil.uns = hvg_adata_fil.uns\n",
    "ag_adata_fil.obsp = hvg_adata_fil.obsp"
   ]
  },
  {
   "cell_type": "code",
   "execution_count": 62,
   "id": "7c9ced5e-96f2-470b-b62b-70fdd3a40889",
   "metadata": {},
   "outputs": [],
   "source": [
    "ag_adata_fil.write_h5ad(\"data/scanorama_full_leiden_v1.h5ad\")"
   ]
  }
 ],
 "metadata": {
  "kernelspec": {
   "display_name": "Python 3 (ipykernel)",
   "language": "python",
   "name": "python3"
  },
  "language_info": {
   "codemirror_mode": {
    "name": "ipython",
    "version": 3
   },
   "file_extension": ".py",
   "mimetype": "text/x-python",
   "name": "python",
   "nbconvert_exporter": "python",
   "pygments_lexer": "ipython3",
   "version": "3.9.10"
  }
 },
 "nbformat": 4,
 "nbformat_minor": 5
}
