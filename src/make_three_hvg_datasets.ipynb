{
 "cells": [
  {
   "cell_type": "code",
   "execution_count": 2,
   "metadata": {},
   "outputs": [],
   "source": [
    "import scanpy as sc\n",
    "#import scanpy.external as sce\n",
    "from scipy.sparse import csr_matrix, vstack\n",
    "from scipy.io import mmread, mmwrite\n",
    "import scanorama\n",
    "import anndata as ad\n",
    "import numpy as np\n",
    "from matplotlib.pyplot import rc_context\n",
    "import pandas as pd\n",
    "from sklearn.neighbors import NearestNeighbors"
   ]
  },
  {
   "cell_type": "markdown",
   "metadata": {},
   "source": [
    "Load single-cell RNA-seq data from an H5AD file into an AnnData object.\n",
    "\n",
    "The file 'data/original_raw.h5ad' contains the dataset, which is stored in `adata`."
   ]
  },
  {
   "cell_type": "code",
   "execution_count": 4,
   "metadata": {},
   "outputs": [],
   "source": [
    "# Assuming 'path_to_file.h5ad' is the path to your H5AD file\n",
    "\n",
    "# Load the H5AD file into an AnnData object\n",
    "adata = ad.read_h5ad('data/original_raw.h5ad')"
   ]
  },
  {
   "cell_type": "markdown",
   "metadata": {},
   "source": [
    "Normalize the count data in the AnnData object, apply log transformation, and identify highly variable genes. \n",
    " \n",
    "The top 2000 genes are selected using the Seurat flavor, with batch correction based on the \"origin\" key."
   ]
  },
  {
   "cell_type": "code",
   "execution_count": 8,
   "metadata": {},
   "outputs": [
    {
     "name": "stderr",
     "output_type": "stream",
     "text": [
      "c:\\Users\\Elliott\\AppData\\Local\\Programs\\Python\\Python39\\lib\\site-packages\\anndata\\_core\\anndata.py:1113: FutureWarning: is_categorical_dtype is deprecated and will be removed in a future version. Use isinstance(dtype, CategoricalDtype) instead\n",
      "  if not is_categorical_dtype(df_full[k]):\n",
      "c:\\Users\\Elliott\\AppData\\Local\\Programs\\Python\\Python39\\lib\\site-packages\\scanpy\\preprocessing\\_highly_variable_genes.py:215: FutureWarning: The default of observed=False is deprecated and will be changed to True in a future version of pandas. Pass observed=False to retain current behavior or observed=True to adopt the future default and silence this warning.\n",
      "  disp_grouped = df.groupby('mean_bin')['dispersions']\n",
      "c:\\Users\\Elliott\\AppData\\Local\\Programs\\Python\\Python39\\lib\\site-packages\\anndata\\_core\\anndata.py:1113: FutureWarning: is_categorical_dtype is deprecated and will be removed in a future version. Use isinstance(dtype, CategoricalDtype) instead\n",
      "  if not is_categorical_dtype(df_full[k]):\n",
      "c:\\Users\\Elliott\\AppData\\Local\\Programs\\Python\\Python39\\lib\\site-packages\\scanpy\\preprocessing\\_highly_variable_genes.py:215: FutureWarning: The default of observed=False is deprecated and will be changed to True in a future version of pandas. Pass observed=False to retain current behavior or observed=True to adopt the future default and silence this warning.\n",
      "  disp_grouped = df.groupby('mean_bin')['dispersions']\n",
      "c:\\Users\\Elliott\\AppData\\Local\\Programs\\Python\\Python39\\lib\\site-packages\\anndata\\_core\\anndata.py:1113: FutureWarning: is_categorical_dtype is deprecated and will be removed in a future version. Use isinstance(dtype, CategoricalDtype) instead\n",
      "  if not is_categorical_dtype(df_full[k]):\n",
      "c:\\Users\\Elliott\\AppData\\Local\\Programs\\Python\\Python39\\lib\\site-packages\\scanpy\\preprocessing\\_highly_variable_genes.py:215: FutureWarning: The default of observed=False is deprecated and will be changed to True in a future version of pandas. Pass observed=False to retain current behavior or observed=True to adopt the future default and silence this warning.\n",
      "  disp_grouped = df.groupby('mean_bin')['dispersions']\n",
      "c:\\Users\\Elliott\\AppData\\Local\\Programs\\Python\\Python39\\lib\\site-packages\\scanpy\\preprocessing\\_highly_variable_genes.py:484: FutureWarning: The behavior of DataFrame concatenation with empty or all-NA entries is deprecated. In a future version, this will no longer exclude empty or all-NA columns when determining the result dtypes. To retain the old behavior, exclude the relevant entries before the concat operation.\n",
      "  hvg = pd.concat([hvg, missing_hvg], ignore_index=True)\n",
      "c:\\Users\\Elliott\\AppData\\Local\\Programs\\Python\\Python39\\lib\\site-packages\\scanpy\\preprocessing\\_highly_variable_genes.py:494: FutureWarning: The provided callable <function nanmean at 0x00000154FE7F3940> is currently using SeriesGroupBy.mean. In a future version of pandas, the provided callable will be used directly. To keep current behavior pass the string \"mean\" instead.\n",
      "  df = df.groupby('gene').agg(\n",
      "c:\\Users\\Elliott\\AppData\\Local\\Programs\\Python\\Python39\\lib\\site-packages\\scanpy\\preprocessing\\_highly_variable_genes.py:494: FutureWarning: The provided callable <function nanmean at 0x00000154FE7F3940> is currently using SeriesGroupBy.mean. In a future version of pandas, the provided callable will be used directly. To keep current behavior pass the string \"mean\" instead.\n",
      "  df = df.groupby('gene').agg(\n",
      "c:\\Users\\Elliott\\AppData\\Local\\Programs\\Python\\Python39\\lib\\site-packages\\scanpy\\preprocessing\\_highly_variable_genes.py:494: FutureWarning: The provided callable <function nansum at 0x00000154FE7F34C0> is currently using SeriesGroupBy.sum. In a future version of pandas, the provided callable will be used directly. To keep current behavior pass the string \"sum\" instead.\n",
      "  df = df.groupby('gene').agg(\n"
     ]
    }
   ],
   "source": [
    "sc.pp.normalize_total(adata, inplace=True)\n",
    "sc.pp.log1p(adata)\n",
    "sc.pp.highly_variable_genes(adata, flavor=\"seurat\", n_top_genes=2000, batch_key = \"origin\", inplace=True)"
   ]
  },
  {
   "cell_type": "markdown",
   "metadata": {},
   "source": [
    "Subset the AnnData object to retain only highly variable genes.  \n",
    "\n",
    "The resulting object, `adata_hvg`, contains only the genes marked as highly variable in the `adata.var` metadata."
   ]
  },
  {
   "cell_type": "code",
   "execution_count": 16,
   "metadata": {},
   "outputs": [
    {
     "data": {
      "text/plain": [
       "highly_variable_intersection\n",
       "False    28312\n",
       "True       371\n",
       "Name: count, dtype: int64"
      ]
     },
     "execution_count": 16,
     "metadata": {},
     "output_type": "execute_result"
    }
   ],
   "source": [
    "# Subset the AnnData object to contain only highly variable genes\n",
    "adata_hvg = adata[:, adata.var['highly_variable']]"
   ]
  },
  {
   "cell_type": "markdown",
   "metadata": {},
   "source": [
    "Split the AnnData object into three subsets based on the \"origin\" column in the observations metadata.  \n",
    "- `cao`: Contains data from the origin \"Cao\".  \n",
    "- `dis`: Contains data from the origin \"Disteche\".  \n",
    "- `ian`: Contains data from the origin \"Ian\".  \n",
    "Each subset is a copy of the original data."
   ]
  },
  {
   "cell_type": "code",
   "execution_count": 5,
   "metadata": {},
   "outputs": [
    {
     "name": "stderr",
     "output_type": "stream",
     "text": [
      "c:\\Users\\Elliott\\AppData\\Local\\Programs\\Python\\Python39\\lib\\site-packages\\anndata\\_core\\anndata.py:1113: FutureWarning: is_categorical_dtype is deprecated and will be removed in a future version. Use isinstance(dtype, CategoricalDtype) instead\n",
      "  if not is_categorical_dtype(df_full[k]):\n"
     ]
    }
   ],
   "source": [
    "cao = adata[adata.obs['origin'] == \"Cao\"].copy()\n",
    "dis = adata[adata.obs['origin'] == \"Disteche\"].copy()\n",
    "ian = adata[adata.obs['origin'] == \"Ian\"].copy()"
   ]
  },
  {
   "cell_type": "markdown",
   "metadata": {},
   "source": [
    "Deletes adata to save memory"
   ]
  },
  {
   "cell_type": "code",
   "execution_count": 7,
   "metadata": {},
   "outputs": [],
   "source": [
    "del(adata)"
   ]
  },
  {
   "cell_type": "markdown",
   "metadata": {},
   "source": [
    "Split the highly variable gene subset (`adata_hvg`) into three datasets based on the \"origin\" column.  \n",
    "- `cao_hvg`: Contains data from the origin \"Cao\".  \n",
    "- `dis_hvg`: Contains data from the origin \"Disteche\".  \n",
    "- `ian_hvg`: Contains data from the origin \"Ian\".  \n",
    "Each subset is a copy of the highly variable gene data."
   ]
  },
  {
   "cell_type": "code",
   "execution_count": 18,
   "metadata": {},
   "outputs": [
    {
     "name": "stderr",
     "output_type": "stream",
     "text": [
      "c:\\Users\\Elliott\\AppData\\Local\\Programs\\Python\\Python39\\lib\\site-packages\\anndata\\_core\\anndata.py:1113: FutureWarning: is_categorical_dtype is deprecated and will be removed in a future version. Use isinstance(dtype, CategoricalDtype) instead\n",
      "  if not is_categorical_dtype(df_full[k]):\n"
     ]
    }
   ],
   "source": [
    "# Separate the three datasets\n",
    "cao_hvg = adata_hvg[adata_hvg.obs['origin'] == \"Cao\"].copy()\n",
    "dis_hvg = adata_hvg[adata_hvg.obs['origin'] == \"Disteche\"].copy()\n",
    "ian_hvg = adata_hvg[adata_hvg.obs['origin'] == \"Ian\"].copy()"
   ]
  },
  {
   "cell_type": "markdown",
   "metadata": {},
   "source": [
    "Randomly sample 300,000 cells from the \"Cerebellum\" and 300,000 cells from the \"Cerebrum\" in the `cao_hvg` dataset.  \n",
    "\n",
    "The resulting subset, `cao_hvg_600`, contains a total of 600,000 cells, evenly split between the two organs."
   ]
  },
  {
   "cell_type": "code",
   "execution_count": 19,
   "metadata": {},
   "outputs": [
    {
     "name": "stderr",
     "output_type": "stream",
     "text": [
      "c:\\Users\\Elliott\\AppData\\Local\\Programs\\Python\\Python39\\lib\\site-packages\\anndata\\_core\\anndata.py:1113: FutureWarning: is_categorical_dtype is deprecated and will be removed in a future version. Use isinstance(dtype, CategoricalDtype) instead\n",
      "  if not is_categorical_dtype(df_full[k]):\n"
     ]
    }
   ],
   "source": [
    "## Selects 300k cerebellum and 300k cerebrum cells from the Cao dataset\n",
    "\n",
    "# Assuming you have an AnnData object called cao_hvg \n",
    "\n",
    "# Get indices for cells belonging to \"Cerebellum\" and \"Cerebrum\"\n",
    "cerebellum_indices = np.where(cao_hvg.obs['Organ'] == 'Cerebellum')[0]\n",
    "cerebrum_indices = np.where(cao_hvg.obs['Organ'] == 'Cerebrum')[0]\n",
    "\n",
    "# Randomly sample 300k cells from each category\n",
    "np.random.shuffle(cerebellum_indices)\n",
    "np.random.shuffle(cerebrum_indices)\n",
    "sample_size = 300000\n",
    "sampled_indices = np.concatenate([cerebellum_indices[:sample_size], cerebrum_indices[:sample_size]])\n",
    "\n",
    "# Subset the original AnnData object to contain only the sampled cells\n",
    "cao_hvg_600 = cao_hvg[sampled_indices, :]\n",
    "\n",
    "# Now sampled_adata contains 300k cells from both \"Cerebellum\" and \"Cerebrum\""
   ]
  },
  {
   "cell_type": "markdown",
   "metadata": {},
   "source": [
    "Save the AnnData objects (`cao_hvg_600`, `dis_hvg`, `ian_hvg`) to H5AD files for future use.  \n",
    "- `cao_hvg_600` is saved as `data/cao_hvg_600.h5ad`.  \n",
    "- `dis_hvg` is saved as `data/dis_hvg.h5ad`.  \n",
    "- `ian_hvg` is saved as `data/ian_hvg.h5ad`."
   ]
  },
  {
   "cell_type": "code",
   "execution_count": 22,
   "metadata": {},
   "outputs": [],
   "source": [
    "# Write the AnnData object to an H5AD file\n",
    "cao_hvg_600.write_h5ad(\"data/cao_hvg_600.h5ad\")\n",
    "dis_hvg.write_h5ad(\"data/dis_hvg.h5ad\")\n",
    "ian_hvg.write_h5ad(\"data/ian_hvg.h5ad\")"
   ]
  }
 ],
 "metadata": {
  "kernelspec": {
   "display_name": "Python 3",
   "language": "python",
   "name": "python3"
  },
  "language_info": {
   "codemirror_mode": {
    "name": "ipython",
    "version": 3
   },
   "file_extension": ".py",
   "mimetype": "text/x-python",
   "name": "python",
   "nbconvert_exporter": "python",
   "pygments_lexer": "ipython3",
   "version": "3.9.10"
  }
 },
 "nbformat": 4,
 "nbformat_minor": 2
}
