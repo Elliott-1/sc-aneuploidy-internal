{
 "cells": [
  {
   "cell_type": "code",
   "execution_count": 1,
   "metadata": {},
   "outputs": [],
   "source": [
    "import numpy as np\n",
    "import pandas as pd"
   ]
  },
  {
   "cell_type": "code",
   "execution_count": 2,
   "metadata": {},
   "outputs": [],
   "source": [
    "astro_xx_x = pd.read_csv(\"/Users/esang/Desktop/Gene/data/differential/xx_x_cluster_12_differential.csv\")\n",
    "astro_xy_xx = pd.read_csv(\"/Users/esang/Desktop/Gene/data/differential/xy_xx_cluster_12_differential.csv\")\n",
    "\n",
    "oligo_xx_x = pd.read_csv(\"/Users/esang/Desktop/Gene/data/differential/xx_x_cluster_34_differential.csv\")\n",
    "oligo_xy_xx = pd.read_csv(\"/Users/esang/Desktop/Gene/data/differential/xy_xx_cluster_34_differential.csv\")"
   ]
  },
  {
   "cell_type": "code",
   "execution_count": 3,
   "metadata": {},
   "outputs": [],
   "source": [
    "all_uw_cells_x_xx = pd.read_csv(\"/Users/esang/Desktop/Gene/data/differential/x_xx_uw.csv\")"
   ]
  },
  {
   "cell_type": "code",
   "execution_count": 4,
   "metadata": {},
   "outputs": [
    {
     "data": {
      "text/html": [
       "<div>\n",
       "<style scoped>\n",
       "    .dataframe tbody tr th:only-of-type {\n",
       "        vertical-align: middle;\n",
       "    }\n",
       "\n",
       "    .dataframe tbody tr th {\n",
       "        vertical-align: top;\n",
       "    }\n",
       "\n",
       "    .dataframe thead th {\n",
       "        text-align: right;\n",
       "    }\n",
       "</style>\n",
       "<table border=\"1\" class=\"dataframe\">\n",
       "  <thead>\n",
       "    <tr style=\"text-align: right;\">\n",
       "      <th></th>\n",
       "      <th>Gene</th>\n",
       "      <th>z-scores</th>\n",
       "      <th>log_fold_changes</th>\n",
       "    </tr>\n",
       "  </thead>\n",
       "  <tbody>\n",
       "    <tr>\n",
       "      <th>0</th>\n",
       "      <td>('XIST',)</td>\n",
       "      <td>11.067369</td>\n",
       "      <td>9.681410</td>\n",
       "    </tr>\n",
       "    <tr>\n",
       "      <th>1</th>\n",
       "      <td>('KIRREL3',)</td>\n",
       "      <td>6.778143</td>\n",
       "      <td>2.520900</td>\n",
       "    </tr>\n",
       "    <tr>\n",
       "      <th>2</th>\n",
       "      <td>('MMD2',)</td>\n",
       "      <td>4.435356</td>\n",
       "      <td>1.450952</td>\n",
       "    </tr>\n",
       "    <tr>\n",
       "      <th>3</th>\n",
       "      <td>('PPM1L',)</td>\n",
       "      <td>4.414673</td>\n",
       "      <td>1.886266</td>\n",
       "    </tr>\n",
       "    <tr>\n",
       "      <th>4</th>\n",
       "      <td>('OTX2-AS1',)</td>\n",
       "      <td>4.229651</td>\n",
       "      <td>2.516373</td>\n",
       "    </tr>\n",
       "    <tr>\n",
       "      <th>...</th>\n",
       "      <td>...</td>\n",
       "      <td>...</td>\n",
       "      <td>...</td>\n",
       "    </tr>\n",
       "    <tr>\n",
       "      <th>30468</th>\n",
       "      <td>('OBI1-AS1',)</td>\n",
       "      <td>-6.087514</td>\n",
       "      <td>-2.359810</td>\n",
       "    </tr>\n",
       "    <tr>\n",
       "      <th>30469</th>\n",
       "      <td>('CNTNAP5',)</td>\n",
       "      <td>-6.703280</td>\n",
       "      <td>-3.298885</td>\n",
       "    </tr>\n",
       "    <tr>\n",
       "      <th>30470</th>\n",
       "      <td>('PCDH9',)</td>\n",
       "      <td>-6.860875</td>\n",
       "      <td>-5.537283</td>\n",
       "    </tr>\n",
       "    <tr>\n",
       "      <th>30471</th>\n",
       "      <td>('DGKB',)</td>\n",
       "      <td>-6.882007</td>\n",
       "      <td>-2.091325</td>\n",
       "    </tr>\n",
       "    <tr>\n",
       "      <th>30472</th>\n",
       "      <td>('CSMD1',)</td>\n",
       "      <td>-7.304657</td>\n",
       "      <td>-3.917555</td>\n",
       "    </tr>\n",
       "  </tbody>\n",
       "</table>\n",
       "<p>30473 rows × 3 columns</p>\n",
       "</div>"
      ],
      "text/plain": [
       "                Gene   z-scores  log_fold_changes\n",
       "0          ('XIST',)  11.067369          9.681410\n",
       "1       ('KIRREL3',)   6.778143          2.520900\n",
       "2          ('MMD2',)   4.435356          1.450952\n",
       "3         ('PPM1L',)   4.414673          1.886266\n",
       "4      ('OTX2-AS1',)   4.229651          2.516373\n",
       "...              ...        ...               ...\n",
       "30468  ('OBI1-AS1',)  -6.087514         -2.359810\n",
       "30469   ('CNTNAP5',)  -6.703280         -3.298885\n",
       "30470     ('PCDH9',)  -6.860875         -5.537283\n",
       "30471      ('DGKB',)  -6.882007         -2.091325\n",
       "30472     ('CSMD1',)  -7.304657         -3.917555\n",
       "\n",
       "[30473 rows x 3 columns]"
      ]
     },
     "execution_count": 4,
     "metadata": {},
     "output_type": "execute_result"
    }
   ],
   "source": [
    "astro_xx_x"
   ]
  },
  {
   "cell_type": "code",
   "execution_count": null,
   "metadata": {},
   "outputs": [],
   "source": []
  }
 ],
 "metadata": {
  "kernelspec": {
   "display_name": "gene",
   "language": "python",
   "name": "python3"
  },
  "language_info": {
   "codemirror_mode": {
    "name": "ipython",
    "version": 3
   },
   "file_extension": ".py",
   "mimetype": "text/x-python",
   "name": "python",
   "nbconvert_exporter": "python",
   "pygments_lexer": "ipython3",
   "version": "3.11.5"
  }
 },
 "nbformat": 4,
 "nbformat_minor": 2
}
