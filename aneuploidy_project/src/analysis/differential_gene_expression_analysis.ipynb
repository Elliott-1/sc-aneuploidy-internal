{
 "cells": [
  {
   "cell_type": "code",
   "execution_count": null,
   "metadata": {},
   "outputs": [],
   "source": [
    "# wilcoxon using v3\n",
    "\n",
    "\n",
    "\n",
    "import scanpy as sc\n",
    "import anndata as ad\n",
    "import pandas as pd\n",
    "from scipy.sparse import csr_matrix, vstack\n",
    "import random\n",
    "import numpy as np\n",
    "import random\n",
    "from scipy.io import mmread, mmwrite\n",
    "from sklearn.neighbors import NearestNeighbors\n",
    "import plotly.graph_objects as go\n",
    "#import igraph\n",
    "import seaborn as sns\n",
    "import matplotlib.pyplot as plt\n",
    "import itertools\n",
    "from itertools import combinations\n",
    "import gzip"
   ]
  },
  {
   "cell_type": "markdown",
   "metadata": {},
   "source": [
    "Read the GTF File\n",
    "\n",
    "In this step, we open and read the compressed GTF file containing gene annotations using the gzip module. The data is loaded into a pandas DataFrame where each line represents an annotation entry. We specify that the file is tab-separated, comments start with #, and there is no header row."
   ]
  },
  {
   "cell_type": "code",
   "execution_count": null,
   "metadata": {},
   "outputs": [
    {
     "name": "stderr",
     "output_type": "stream",
     "text": [
      "C:\\Users\\PC\\AppData\\Local\\Temp\\ipykernel_29024\\268843394.py:4: DtypeWarning: Columns (0) have mixed types. Specify dtype option on import or set low_memory=False.\n",
      "  df = pd.read_csv(f, sep='\\t', comment='#', header=None)\n"
     ]
    },
    {
     "name": "stdout",
     "output_type": "stream",
     "text": [
      "      chromosome gene_short_name    start      end          gene_id\n",
      "0              1             NaN  2581560  2584533  ENSG00000228037\n",
      "1              1          PRDM16  3069168  3438621  ENSG00000142611\n",
      "2              1             NaN  5301928  5307394  ENSG00000284616\n",
      "3              1           PEX10  2403964  2413797  ENSG00000157911\n",
      "4              1             NaN  5492978  5494674  ENSG00000260972\n",
      "...          ...             ...      ...      ...              ...\n",
      "63081         MT          MT-ND6    14149    14673  ENSG00000198695\n",
      "63082         MT           MT-TE    14674    14742  ENSG00000210194\n",
      "63083         MT          MT-CYB    14747    15887  ENSG00000198727\n",
      "63084         MT           MT-TT    15888    15953  ENSG00000210195\n",
      "63085         MT           MT-TP    15956    16023  ENSG00000210196\n",
      "\n",
      "[63086 rows x 5 columns]\n"
     ]
    },
    {
     "name": "stderr",
     "output_type": "stream",
     "text": [
      "C:\\Users\\PC\\AppData\\Local\\Temp\\ipykernel_29024\\268843394.py:11: SettingWithCopyWarning: \n",
      "A value is trying to be set on a copy of a slice from a DataFrame.\n",
      "Try using .loc[row_indexer,col_indexer] = value instead\n",
      "\n",
      "See the caveats in the documentation: https://pandas.pydata.org/pandas-docs/stable/user_guide/indexing.html#returning-a-view-versus-a-copy\n",
      "  gene_info['gene_id'] = gene_info[8].str.extract(r'gene_id \"([^\"]+)\"')\n",
      "C:\\Users\\PC\\AppData\\Local\\Temp\\ipykernel_29024\\268843394.py:12: SettingWithCopyWarning: \n",
      "A value is trying to be set on a copy of a slice from a DataFrame.\n",
      "Try using .loc[row_indexer,col_indexer] = value instead\n",
      "\n",
      "See the caveats in the documentation: https://pandas.pydata.org/pandas-docs/stable/user_guide/indexing.html#returning-a-view-versus-a-copy\n",
      "  gene_info['gene_name'] = gene_info[8].str.extract(r'gene_name \"([^\"]+)\"')\n"
     ]
    }
   ],
   "source": [
    "# Read the GTF file\n",
    "with gzip.open('D:/newgenes/data/Homo_sapiens.GRCh38.112.chr.gtf.gz', 'rt') as f:\n",
    "    # Read it into a DataFrame\n",
    "    df = pd.read_csv(f, sep='\\t', comment='#', header=None)\n",
    "\n",
    "# Filter for gene entries\n",
    "genes = df[df[2] == 'gene']\n",
    "\n",
    "# Extract relevant columns (chromosome, start, end, attributes)\n",
    "gene_info = genes[[0, 3, 4, 8]]  # 0: chromosome, 3: start, 4: end, 8: attributes\n",
    "gene_info['gene_id'] = gene_info[8].str.extract(r'gene_id \"([^\"]+)\"')\n",
    "gene_info['gene_name'] = gene_info[8].str.extract(r'gene_name \"([^\"]+)\"')\n",
    "\n",
    "# Final DataFrame with gene names, chromosome, start and end positions\n",
    "final_genes = gene_info[[0, 'gene_name', 3, 4, \"gene_id\"]].drop_duplicates().reset_index(drop=True)\n",
    "\n",
    "# Rename columns for clarity\n",
    "final_genes = final_genes.rename(columns={0: \"chromosome\", 3: \"start\", 4: \"end\"})\n",
    "final_genes = final_genes.rename(columns={\"gene_name\": \"gene_short_name\"})\n",
    "final_genes[\"chromosome\"] = final_genes[\"chromosome\"].astype(str)\n",
    "\n",
    "# Display the final DataFrame\n",
    "print(final_genes)\n",
    "just_loc = final_genes[[\"gene_short_name\", \"start\", \"end\"]]\n",
    "\n",
    "just_loc = just_loc.dropna(subset=['gene_short_name'])\n",
    "\n",
    "# Step 1: Remove duplicates based on 'gene_short_name' and keep the first occurrence\n",
    "just_loc = just_loc.drop_duplicates(subset='gene_short_name', keep='first')"
   ]
  },
  {
   "cell_type": "markdown",
   "metadata": {},
   "source": [
    "Load and Filter the Data\n",
    "\n",
    "In this step, we load an H5AD file containing single-cell RNA-seq data using scanpy. The dataset is then filtered to exclude samples with the ID 115.010n. The code also reads a list of constitutively escaped genes from a CSV file, but in this case, the gene list is hardcoded as a Python list for further processing."
   ]
  },
  {
   "cell_type": "code",
   "execution_count": null,
   "metadata": {},
   "outputs": [],
   "source": [
    "adata = ad.read_h5ad('D:/newgenes/data/scanorama_full_leiden_v3_fil_no_unk.h5ad')\n",
    "adata = adata[adata.obs[\"sampleID\"] != \"115.010n\"]\n",
    "\n",
    "# Read the CSV file into a DataFrame\n",
    "#cons_escape_genes = pd.read_csv('D:/newgenes/data/escape_genes_constitutive.csv', header=None)\n",
    "cons_escape_genes = ['PLCXD1', 'GTPBP6', 'PPP2R3B', 'SHOX', 'CSF2RA', 'IL3RA', 'SLC25A6', 'ASMTL', 'P2RY8', 'AKAP17A', 'ASMT', 'DHRSX', 'ZBED1', 'CD99', 'GYG2', 'ARSD', 'MXRA5', 'PRKX', 'NLGN4X', 'STS', 'PUDP', 'PNPLA4', 'ANOS1', 'FAM9C', 'TCEANC', 'RAB9A', 'TRAPPC2', 'OFD1', 'GPM6B', 'GEMIN8', 'CA5B', 'ZRSR2', 'AP1S2', 'S100G', 'CTPS2', 'SYAP1', 'TXLNG', 'RBBP7', 'EIF1AX', 'EIF2S3', 'ZFX', 'CXorf38', 'USP9X', 'DDX3X', 'FUNDC1', 'KDM6A', 'UBA1', 'CDK16', 'KDM5C', 'IQSEC2', 'SMC1A', 'RPS4X', 'JPX', 'HTR2C', 'SPRY3', 'VAMP7', 'IL9R']\n",
    "# Convert the DataFrame to a list\n",
    "cons_eg = cons_escape_genes\n",
    "\n",
    "# Now `values_list` contains the values from the CSV\n",
    "print(cons_eg)"
   ]
  },
  {
   "cell_type": "markdown",
   "metadata": {},
   "source": [
    "Make Gene Names Unique and Prepare Data\n",
    "\n",
    "In this cell, we ensure that the gene names in the adata object are unique by using the var_names_make_unique() function. We also add a new column for the gene short names. Additionally, we load a CSV file containing variable information (dis_var_fil.csv), which includes gene names and chromosome data, and filter it to only retain the relevant columns: gene_short_name and chromosome."
   ]
  },
  {
   "cell_type": "code",
   "execution_count": null,
   "metadata": {},
   "outputs": [],
   "source": [
    "adata.var_names_make_unique()\n",
    "adata.var[\"gene_short_name\"] = adata.var.index\n",
    "var_test = pd.read_csv(\"D:/newgenes/data/dis_var_fil.csv\")\n",
    "\n",
    "var_test[\"gene_short_name\"] = var_test[\"gene_short_name\"].values\n",
    "var_test = var_test[[\"gene_short_name\", \"chromosome\"]]"
   ]
  },
  {
   "cell_type": "markdown",
   "metadata": {},
   "source": [
    "Identify and Filter Duplicates\n",
    "\n",
    "This cell identifies duplicate values in the gene_short_name column of the var_test DataFrame. First, we mark the duplicated gene names, keeping only the first occurrence. Then, we extract the gene names that appear exactly once (unique values). Finally, the DataFrame is filtered to retain only the unique values and the first occurrences of any duplicates."
   ]
  },
  {
   "cell_type": "code",
   "execution_count": null,
   "metadata": {},
   "outputs": [],
   "source": [
    "# Identify duplicated values\n",
    "duplicates = var_test.duplicated('gene_short_name', keep='first')\n",
    "\n",
    "# Find non-duplicated values (unique values appearing exactly once)\n",
    "value_counts = var_test['gene_short_name'].value_counts()\n",
    "unique_values = value_counts[value_counts == 1].index\n",
    "\n",
    "# Filter DataFrame to include unique values and first occurrences of duplicates\n",
    "var_test = var_test[var_test['gene_short_name'].isin(unique_values) | ~duplicates]"
   ]
  },
  {
   "cell_type": "markdown",
   "metadata": {},
   "source": [
    "Merge and Add Chromosome Information\n",
    "\n",
    "In this step, the var_test DataFrame is merged with the adata.var DataFrame on the gene_short_name column to add chromosome information to the adata object. The merge is performed using a left join to ensure all entries in adata.var are retained. Duplicates are then removed, and the chromosome data is added to the adata.var DataFrame."
   ]
  },
  {
   "cell_type": "code",
   "execution_count": null,
   "metadata": {},
   "outputs": [],
   "source": [
    "test_123 = pd.merge(adata.var, var_test, on = 'gene_short_name', how='left')\n",
    "test_123 = test_123.drop_duplicates()\n",
    "adata.var[\"chromosome\"] = test_123[\"chromosome\"].values"
   ]
  },
  {
   "cell_type": "markdown",
   "metadata": {},
   "source": [
    "Create and Merge Gene List\n",
    "\n",
    "In this cell, a new DataFrame par_df is created using the list of constitutively escaped genes (cons_eg), with a new column indicating that these genes are \"escape\" genes. This DataFrame is then merged with the adata.var DataFrame to add the escape gene information. The merge is performed using a left join to ensure that all genes in adata.var are retained."
   ]
  },
  {
   "cell_type": "code",
   "execution_count": null,
   "metadata": {},
   "outputs": [],
   "source": [
    "# List of genes\n",
    "\n",
    "# Create a DataFrame\n",
    "par_df = pd.DataFrame(cons_eg, columns=['gene_short_name'])\n",
    "par_df['Is_escape'] = True\n",
    "\n",
    "par_full = pd.merge(adata.var, par_df, on=\"gene_short_name\", how = \"left\")"
   ]
  },
  {
   "cell_type": "markdown",
   "metadata": {},
   "source": [
    "Group and Analyze Cluster Information\n",
    "\n",
    "In this cell, the leiden column is converted to an integer type and used for further analysis. The cao_obs subset is created by filtering the data based on the \"origin\" column. Then, the data is grouped by leiden and Main_cluster_name, and the count of rows in each group is calculated. Percentages of each cluster are computed relative to the total number of rows for each leiden value.\n",
    "\n",
    "Additionally, the most common Main_cluster_name for each leiden is identified. The resulting data is sorted, and the leiden column is re-categorized based on this sorted order to ensure the correct cluster sequence. Finally, the results are merged with the counts data, and unnecessary columns are dropped for clarity."
   ]
  },
  {
   "cell_type": "code",
   "execution_count": null,
   "metadata": {},
   "outputs": [
    {
     "name": "stderr",
     "output_type": "stream",
     "text": [
      "C:\\Users\\PC\\AppData\\Local\\Temp\\ipykernel_29024\\1190395902.py:4: FutureWarning: The default of observed=False is deprecated and will be changed to True in a future version of pandas. Pass observed=False to retain current behavior or observed=True to adopt the future default and silence this warning.\n",
      "  counts = cao_obs.groupby(['leiden', 'Main_cluster_name']).size().reset_index(name='count')\n"
     ]
    }
   ],
   "source": [
    "adata.obs[\"leiden\"] = adata.obs[\"leiden\"].astype(int) \n",
    "cao_obs = adata.obs[adata.obs[\"origin\"] == \"Cao\"]\n",
    "# Step 1: Group by 'leiden' and 'Main_cluster_name', and count rows\n",
    "counts = cao_obs.groupby(['leiden', 'Main_cluster_name']).size().reset_index(name='count')\n",
    "counts[\"leiden\"] = counts[\"leiden\"].astype(int)\n",
    "# Step 2: Calculate total counts per leiden value\n",
    "total_counts = cao_obs.groupby('leiden').size()\n",
    "\n",
    "# Step 3: Compute percentages\n",
    "counts['total_rows'] = counts['leiden'].map(total_counts)  # Map total counts to each row\n",
    "counts['percentage'] = (counts['count'] / counts['total_rows']) * 100\n",
    "# Step 1: Find the most common Main_cluster_name for each leiden\n",
    "most_common = cao_obs.groupby('leiden')['Main_cluster_name'].agg(lambda x: x.mode()[0]).reset_index(name='most_common')\n",
    "\n",
    "# Step 2: Calculate total counts per leiden value\n",
    "total_counts = cao_obs.groupby('leiden').size()\n",
    "\n",
    "# Step 3: Compute percentages correctly\n",
    "most_common['total_rows'] = most_common['leiden'].map(total_counts)  # Map total counts to each row\n",
    "\n",
    "# Display the result\n",
    "most_common = most_common.sort_values(by='most_common')\n",
    "\n",
    "\n",
    "\n",
    "\n",
    "# Get a list of the values in the \"leiden\" column in the new order\n",
    "cluster_order = most_common['leiden'].tolist()\n",
    "most_common_list = most_common[\"most_common\"].tolist()\n",
    "cluster_len = len(cluster_order)\n",
    "\n",
    "adata.obs[\"leiden\"] = adata.obs[\"leiden\"].astype(int).astype(\"category\")\n",
    "adata.obs['leiden'] = adata.obs['leiden'].cat.set_categories(cluster_order)\n",
    "\n",
    "# Merge `most_common` with `counts` on ('leiden', 'most_common') using a left join\n",
    "result = pd.merge(most_common, counts, left_on=['leiden', 'most_common'], right_on=['leiden', 'Main_cluster_name'], how='left')\n",
    "result.drop(\"Main_cluster_name\", axis=1, inplace=True)\n",
    "result.drop(\"total_rows_y\", axis=1, inplace=True)\n",
    "\n",
    "# Rename column 'A' to 'new_column_name'\n",
    "result.rename(columns={'total_rows_x': 'total_cells'}, inplace=True)"
   ]
  },
  {
   "cell_type": "markdown",
   "metadata": {},
   "source": [
    "Assign Predicted Cell Types and Prepare Data Subsets\n",
    "\n",
    "This cell creates a DataFrame cluster_celltype that maps each leiden cluster to a predicted cell type, and merges it with the adata.obs DataFrame to assign the predicted cell types to the cells in adata. The predicted_cell_type column is then added to adata.obs.\n",
    "\n",
    "Additionally, subsets of the adata object are created for different origins (\"Disteche\", \"Ian\", and \"Cao\") to facilitate further analysis.\n",
    "\n",
    "Finally, the gene_short_name columns in the var_test and par_df DataFrames are renamed to Gene for consistency and to align with the gene naming conventions in the other DataFrames."
   ]
  },
  {
   "cell_type": "code",
   "execution_count": null,
   "metadata": {},
   "outputs": [],
   "source": [
    "cluster_celltype = pd.DataFrame({'leiden': cluster_order, 'predicted_cell_type': most_common_list})\n",
    "\n",
    "merged_df = pd.merge(adata.obs, cluster_celltype, on='leiden', how='left')\n",
    "\n",
    "adata.obs['predicted_cell_type'] = merged_df[\"predicted_cell_type\"].values\n",
    "\n",
    "adata_dis = adata[adata.obs[\"origin\"] == \"Disteche\"]\n",
    "adata_ian = adata[adata.obs[\"origin\"] == \"Ian\"]\n",
    "adata_cao = adata[adata.obs[\"origin\"] == \"Cao\"]\n",
    "\n",
    "var_test.rename(columns={'gene_short_name': 'Gene'}, inplace=True)\n",
    "par_df.rename(columns={'gene_short_name': 'Gene'}, inplace=True)\n"
   ]
  },
  {
   "cell_type": "markdown",
   "metadata": {},
   "source": [
    "Prepare and Modify Cell Type List\n",
    "\n",
    "In this step, a list of unique predicted cell types is extracted from the adata.obs[\"predicted_cell_type\"] column and stored in cell_type_list. The list is then sorted, and a predefined list of cell types (cell_type_list1) is added for further analysis. The cell type \"SLC24A4_PEX5L positive cells\" is removed from cell_type_list to ensure it is excluded from subsequent analysis."
   ]
  },
  {
   "cell_type": "code",
   "execution_count": null,
   "metadata": {},
   "outputs": [],
   "source": [
    "cell_type_list = adata.obs[\"predicted_cell_type\"].unique().tolist()\n",
    "cell_type_list1 = [\"Inhibitory neurons\", \"Limbic system neurons\",\"Microglia\", \"Oligodendrocytes\", \"Purkinje neurons\", \"Unipolar brush cells\", \"Vascular endothelial cells\"]\n",
    "cell_type_list.sort()\n",
    "cell_type_list.remove(\"SLC24A4_PEX5L positive cells\")"
   ]
  },
  {
   "cell_type": "markdown",
   "metadata": {},
   "source": [
    "Filter the var DataFrame and Update adata_dis\n",
    "\n",
    "In this step, we access the var DataFrame of the adata_dis object and filter out genes located on the mitochondrial chromosome (chromosome == 'MT'). The filtered DataFrame is used to update the adata_dis object, keeping only the genes that pass this condition.\n",
    "\n",
    "Next, a second filter is applied to remove rows where the chromosome information is missing (NaN). The adata_dis_fil object is updated once again, retaining only the genes that have valid chromosome information."
   ]
  },
  {
   "cell_type": "code",
   "execution_count": null,
   "metadata": {},
   "outputs": [],
   "source": [
    "# Access the var dataframe\n",
    "var_df = adata_dis.var\n",
    "\n",
    "# Apply the filtering condition\n",
    "filtered_var_df = var_df[~(var_df['chromosome'] == 'MT')]\n",
    "\n",
    "# Update the dis_adata object with the filtered var dataframe\n",
    "adata_dis_fil = adata_dis[:, filtered_var_df.index].copy()\n",
    "\n",
    "# Access the var dataframe\n",
    "var_df = adata_dis_fil.var\n",
    "\n",
    "# Apply the filtering condition\n",
    "filtered_var_df = var_df.dropna(subset=['chromosome'])\n",
    "\n",
    "# Update the dis_adata object with the filtered var dataframe\n",
    "adata_dis_fil = adata_dis_fil[:, filtered_var_df.index].copy()"
   ]
  },
  {
   "cell_type": "markdown",
   "metadata": {},
   "source": [
    "Merge Gene Location and Filter by Age Group\n",
    "\n",
    "In this cell, the just_loc DataFrame (which contains gene location data) is merged with the var DataFrame of the adata_dis_fil object to add the gene location information based on the gene_short_name. The index of the var DataFrame is then updated to use the gene_short_name.\n",
    "\n",
    "Next, the data is split into two subsets based on the age column: one for individuals aged 105 or younger (adata_dis_fh) and another for those aged 110 or older (adata_dis_sh).\n",
    "\n",
    "The normalize_total function is applied to normalize each subset to a total count of 1 million, and the log1p transformation is performed to log-transform the data."
   ]
  },
  {
   "cell_type": "code",
   "execution_count": null,
   "metadata": {},
   "outputs": [],
   "source": [
    "adata_dis_fil.var = pd.merge(adata_dis_fil.var, just_loc, on='gene_short_name', how='left')\n",
    "adata_dis_fil.var.index = adata_dis_fil.var[\"gene_short_name\"].values\n",
    "\n",
    "adata_dis_fh = adata_dis_fil[adata_dis_fil.obs[\"age\"] <= 105].copy()\n",
    "adata_dis_sh = adata_dis_fil[adata_dis_fil.obs[\"age\"] > 110].copy()\n",
    "\n",
    "sc.pp.normalize_total(adata_dis_fh, target_sum=1e6)\n",
    "sc.pp.log1p(adata_dis_fh)\n",
    "\n",
    "sc.pp.normalize_total(adata_dis_sh, target_sum=1e6)\n",
    "sc.pp.log1p(adata_dis_sh)"
   ]
  },
  {
   "cell_type": "markdown",
   "metadata": {},
   "source": [
    "Differential Gene Expression Analysis for Cell Types and Genotypes\n",
    "\n",
    "In this section, we perform differential gene expression analysis for different cell types and genotypes (XXY vs XX and XY). The analysis is carried out for each cell type in the cell_type_list. For each cell type, the expression data is filtered based on the genotype, and the Wilcoxon rank-sum test is used to identify differentially expressed genes between the specified genotypes.\n",
    "\n",
    "The following steps are performed:\n",
    "\n",
    "    Gene Expression Calculation: The mean gene expression for each genotype is calculated and added to the var DataFrame.\n",
    "    Wilcoxon Test: The Wilcoxon rank-sum test is applied to detect differentially expressed genes between the selected genotypes.\n",
    "    Merging Results: The test results are merged with additional gene information such as chromosome, start, and end positions, along with gene names and expression values.\n",
    "    Filtering and Sorting: Genes are filtered based on adjusted p-value < 0.05, and the data is sorted by log fold change. Positive and negative results are handled separately.\n",
    "    Saving Results: The results for significant and non-significant genes are saved as CSV files for both positive and negative log fold changes.\n",
    "\n",
    "This analysis is repeated for each combination of cell type and genotype, with the results saved for further inspection."
   ]
  },
  {
   "cell_type": "code",
   "execution_count": null,
   "metadata": {},
   "outputs": [
    {
     "name": "stdout",
     "output_type": "stream",
     "text": [
      "Astrocytes\n"
     ]
    },
    {
     "name": "stderr",
     "output_type": "stream",
     "text": [
      "c:\\Users\\PC\\miniconda3\\Lib\\site-packages\\scanpy\\preprocessing\\_simple.py:282: ImplicitModificationWarning: Trying to modify attribute `.var` of view, initializing view as actual.\n",
      "  adata.var[\"n_cells\"] = number\n",
      "C:\\Users\\PC\\AppData\\Local\\Temp\\ipykernel_22684\\3850618792.py:41: FutureWarning: The default of observed=False is deprecated and will be changed to True in a future version of pandas. Pass observed=False to retain current behavior or observed=True to adopt the future default and silence this warning.\n",
      "  mean_expression = expression_df.groupby(obs['genotype']).mean()\n"
     ]
    },
    {
     "name": "stdout",
     "output_type": "stream",
     "text": [
      "genotype\n",
      "XX     1575\n",
      "XXY     143\n",
      "Name: count, dtype: int64\n"
     ]
    },
    {
     "name": "stderr",
     "output_type": "stream",
     "text": [
      "C:\\Users\\PC\\AppData\\Local\\Temp\\ipykernel_22684\\3850618792.py:82: FutureWarning: A value is trying to be set on a copy of a DataFrame or Series through chained assignment using an inplace method.\n",
      "The behavior will change in pandas 3.0. This inplace method will never work because the intermediate object on which we are setting values always behaves as a copy.\n",
      "\n",
      "For example, when doing 'df[col].method(value, inplace=True)', try using 'df.method({col: value}, inplace=True)' or df[col] = df[col].method(value) instead, to perform the operation inplace on the original object.\n",
      "\n",
      "\n",
      "  sc_wilcoxon[\"location_tag\"].fillna(\"NaN\", inplace=True)\n",
      "c:\\Users\\PC\\miniconda3\\Lib\\site-packages\\scanpy\\preprocessing\\_simple.py:282: ImplicitModificationWarning: Trying to modify attribute `.var` of view, initializing view as actual.\n",
      "  adata.var[\"n_cells\"] = number\n",
      "C:\\Users\\PC\\AppData\\Local\\Temp\\ipykernel_22684\\3850618792.py:41: FutureWarning: The default of observed=False is deprecated and will be changed to True in a future version of pandas. Pass observed=False to retain current behavior or observed=True to adopt the future default and silence this warning.\n",
      "  mean_expression = expression_df.groupby(obs['genotype']).mean()\n"
     ]
    },
    {
     "name": "stdout",
     "output_type": "stream",
     "text": [
      "Number of statistically significant genes between XXY and XX for cell type: Astrocytes 11\n",
      "genotype\n",
      "XY     175\n",
      "XXY    143\n",
      "Name: count, dtype: int64\n"
     ]
    },
    {
     "name": "stderr",
     "output_type": "stream",
     "text": [
      "C:\\Users\\PC\\AppData\\Local\\Temp\\ipykernel_22684\\3850618792.py:82: FutureWarning: A value is trying to be set on a copy of a DataFrame or Series through chained assignment using an inplace method.\n",
      "The behavior will change in pandas 3.0. This inplace method will never work because the intermediate object on which we are setting values always behaves as a copy.\n",
      "\n",
      "For example, when doing 'df[col].method(value, inplace=True)', try using 'df.method({col: value}, inplace=True)' or df[col] = df[col].method(value) instead, to perform the operation inplace on the original object.\n",
      "\n",
      "\n",
      "  sc_wilcoxon[\"location_tag\"].fillna(\"NaN\", inplace=True)\n"
     ]
    },
    {
     "name": "stdout",
     "output_type": "stream",
     "text": [
      "Number of statistically significant genes between XXY and XY for cell type: Astrocytes 1\n",
      "Excitatory neurons\n"
     ]
    },
    {
     "name": "stderr",
     "output_type": "stream",
     "text": [
      "c:\\Users\\PC\\miniconda3\\Lib\\site-packages\\scanpy\\preprocessing\\_simple.py:282: ImplicitModificationWarning: Trying to modify attribute `.var` of view, initializing view as actual.\n",
      "  adata.var[\"n_cells\"] = number\n"
     ]
    },
    {
     "name": "stdout",
     "output_type": "stream",
     "text": [
      "genotype\n",
      "XX     53437\n",
      "XXY    11745\n",
      "Name: count, dtype: int64\n"
     ]
    },
    {
     "name": "stderr",
     "output_type": "stream",
     "text": [
      "C:\\Users\\PC\\AppData\\Local\\Temp\\ipykernel_22684\\3850618792.py:41: FutureWarning: The default of observed=False is deprecated and will be changed to True in a future version of pandas. Pass observed=False to retain current behavior or observed=True to adopt the future default and silence this warning.\n",
      "  mean_expression = expression_df.groupby(obs['genotype']).mean()\n",
      "C:\\Users\\PC\\AppData\\Local\\Temp\\ipykernel_22684\\3850618792.py:82: FutureWarning: A value is trying to be set on a copy of a DataFrame or Series through chained assignment using an inplace method.\n",
      "The behavior will change in pandas 3.0. This inplace method will never work because the intermediate object on which we are setting values always behaves as a copy.\n",
      "\n",
      "For example, when doing 'df[col].method(value, inplace=True)', try using 'df.method({col: value}, inplace=True)' or df[col] = df[col].method(value) instead, to perform the operation inplace on the original object.\n",
      "\n",
      "\n",
      "  sc_wilcoxon[\"location_tag\"].fillna(\"NaN\", inplace=True)\n"
     ]
    },
    {
     "name": "stdout",
     "output_type": "stream",
     "text": [
      "Number of statistically significant genes between XXY and XX for cell type: Excitatory neurons 3010\n"
     ]
    },
    {
     "name": "stderr",
     "output_type": "stream",
     "text": [
      "c:\\Users\\PC\\miniconda3\\Lib\\site-packages\\scanpy\\preprocessing\\_simple.py:282: ImplicitModificationWarning: Trying to modify attribute `.var` of view, initializing view as actual.\n",
      "  adata.var[\"n_cells\"] = number\n"
     ]
    },
    {
     "name": "stdout",
     "output_type": "stream",
     "text": [
      "genotype\n",
      "XY     49486\n",
      "XXY    11745\n",
      "Name: count, dtype: int64\n"
     ]
    },
    {
     "name": "stderr",
     "output_type": "stream",
     "text": [
      "C:\\Users\\PC\\AppData\\Local\\Temp\\ipykernel_22684\\3850618792.py:41: FutureWarning: The default of observed=False is deprecated and will be changed to True in a future version of pandas. Pass observed=False to retain current behavior or observed=True to adopt the future default and silence this warning.\n",
      "  mean_expression = expression_df.groupby(obs['genotype']).mean()\n",
      "C:\\Users\\PC\\AppData\\Local\\Temp\\ipykernel_22684\\3850618792.py:82: FutureWarning: A value is trying to be set on a copy of a DataFrame or Series through chained assignment using an inplace method.\n",
      "The behavior will change in pandas 3.0. This inplace method will never work because the intermediate object on which we are setting values always behaves as a copy.\n",
      "\n",
      "For example, when doing 'df[col].method(value, inplace=True)', try using 'df.method({col: value}, inplace=True)' or df[col] = df[col].method(value) instead, to perform the operation inplace on the original object.\n",
      "\n",
      "\n",
      "  sc_wilcoxon[\"location_tag\"].fillna(\"NaN\", inplace=True)\n"
     ]
    },
    {
     "name": "stdout",
     "output_type": "stream",
     "text": [
      "Number of statistically significant genes between XXY and XY for cell type: Excitatory neurons 3680\n",
      "Granule neurons\n"
     ]
    },
    {
     "name": "stderr",
     "output_type": "stream",
     "text": [
      "c:\\Users\\PC\\miniconda3\\Lib\\site-packages\\scanpy\\preprocessing\\_simple.py:282: ImplicitModificationWarning: Trying to modify attribute `.var` of view, initializing view as actual.\n",
      "  adata.var[\"n_cells\"] = number\n"
     ]
    },
    {
     "name": "stdout",
     "output_type": "stream",
     "text": [
      "genotype\n",
      "XX     104\n",
      "XXY     70\n",
      "Name: count, dtype: int64\n"
     ]
    },
    {
     "name": "stderr",
     "output_type": "stream",
     "text": [
      "C:\\Users\\PC\\AppData\\Local\\Temp\\ipykernel_22684\\3850618792.py:41: FutureWarning: The default of observed=False is deprecated and will be changed to True in a future version of pandas. Pass observed=False to retain current behavior or observed=True to adopt the future default and silence this warning.\n",
      "  mean_expression = expression_df.groupby(obs['genotype']).mean()\n",
      "C:\\Users\\PC\\AppData\\Local\\Temp\\ipykernel_22684\\3850618792.py:82: FutureWarning: A value is trying to be set on a copy of a DataFrame or Series through chained assignment using an inplace method.\n",
      "The behavior will change in pandas 3.0. This inplace method will never work because the intermediate object on which we are setting values always behaves as a copy.\n",
      "\n",
      "For example, when doing 'df[col].method(value, inplace=True)', try using 'df.method({col: value}, inplace=True)' or df[col] = df[col].method(value) instead, to perform the operation inplace on the original object.\n",
      "\n",
      "\n",
      "  sc_wilcoxon[\"location_tag\"].fillna(\"NaN\", inplace=True)\n",
      "c:\\Users\\PC\\miniconda3\\Lib\\site-packages\\scanpy\\preprocessing\\_simple.py:282: ImplicitModificationWarning: Trying to modify attribute `.var` of view, initializing view as actual.\n",
      "  adata.var[\"n_cells\"] = number\n",
      "C:\\Users\\PC\\AppData\\Local\\Temp\\ipykernel_22684\\3850618792.py:41: FutureWarning: The default of observed=False is deprecated and will be changed to True in a future version of pandas. Pass observed=False to retain current behavior or observed=True to adopt the future default and silence this warning.\n",
      "  mean_expression = expression_df.groupby(obs['genotype']).mean()\n",
      "C:\\Users\\PC\\AppData\\Local\\Temp\\ipykernel_22684\\3850618792.py:82: FutureWarning: A value is trying to be set on a copy of a DataFrame or Series through chained assignment using an inplace method.\n",
      "The behavior will change in pandas 3.0. This inplace method will never work because the intermediate object on which we are setting values always behaves as a copy.\n",
      "\n",
      "For example, when doing 'df[col].method(value, inplace=True)', try using 'df.method({col: value}, inplace=True)' or df[col] = df[col].method(value) instead, to perform the operation inplace on the original object.\n",
      "\n",
      "\n",
      "  sc_wilcoxon[\"location_tag\"].fillna(\"NaN\", inplace=True)\n"
     ]
    },
    {
     "name": "stdout",
     "output_type": "stream",
     "text": [
      "Number of statistically significant genes between XXY and XX for cell type: Granule neurons 0\n",
      "genotype\n",
      "XXY    70\n",
      "XY     20\n",
      "Name: count, dtype: int64\n",
      "Number of statistically significant genes between XXY and XY for cell type: Granule neurons 3\n",
      "Inhibitory interneurons\n"
     ]
    },
    {
     "name": "stderr",
     "output_type": "stream",
     "text": [
      "c:\\Users\\PC\\miniconda3\\Lib\\site-packages\\scanpy\\preprocessing\\_simple.py:282: ImplicitModificationWarning: Trying to modify attribute `.var` of view, initializing view as actual.\n",
      "  adata.var[\"n_cells\"] = number\n",
      "C:\\Users\\PC\\AppData\\Local\\Temp\\ipykernel_22684\\3850618792.py:41: FutureWarning: The default of observed=False is deprecated and will be changed to True in a future version of pandas. Pass observed=False to retain current behavior or observed=True to adopt the future default and silence this warning.\n",
      "  mean_expression = expression_df.groupby(obs['genotype']).mean()\n",
      "C:\\Users\\PC\\AppData\\Local\\Temp\\ipykernel_22684\\3850618792.py:82: FutureWarning: A value is trying to be set on a copy of a DataFrame or Series through chained assignment using an inplace method.\n",
      "The behavior will change in pandas 3.0. This inplace method will never work because the intermediate object on which we are setting values always behaves as a copy.\n",
      "\n",
      "For example, when doing 'df[col].method(value, inplace=True)', try using 'df.method({col: value}, inplace=True)' or df[col] = df[col].method(value) instead, to perform the operation inplace on the original object.\n",
      "\n",
      "\n",
      "  sc_wilcoxon[\"location_tag\"].fillna(\"NaN\", inplace=True)\n",
      "c:\\Users\\PC\\miniconda3\\Lib\\site-packages\\scanpy\\preprocessing\\_simple.py:282: ImplicitModificationWarning: Trying to modify attribute `.var` of view, initializing view as actual.\n",
      "  adata.var[\"n_cells\"] = number\n",
      "C:\\Users\\PC\\AppData\\Local\\Temp\\ipykernel_22684\\3850618792.py:41: FutureWarning: The default of observed=False is deprecated and will be changed to True in a future version of pandas. Pass observed=False to retain current behavior or observed=True to adopt the future default and silence this warning.\n",
      "  mean_expression = expression_df.groupby(obs['genotype']).mean()\n"
     ]
    },
    {
     "name": "stdout",
     "output_type": "stream",
     "text": [
      "genotype\n",
      "XX     120\n",
      "XXY     56\n",
      "Name: count, dtype: int64\n",
      "Number of statistically significant genes between XXY and XX for cell type: Inhibitory interneurons 2\n",
      "genotype\n",
      "XXY    56\n",
      "XY      9\n",
      "Name: count, dtype: int64\n"
     ]
    },
    {
     "name": "stderr",
     "output_type": "stream",
     "text": [
      "C:\\Users\\PC\\AppData\\Local\\Temp\\ipykernel_22684\\3850618792.py:82: FutureWarning: A value is trying to be set on a copy of a DataFrame or Series through chained assignment using an inplace method.\n",
      "The behavior will change in pandas 3.0. This inplace method will never work because the intermediate object on which we are setting values always behaves as a copy.\n",
      "\n",
      "For example, when doing 'df[col].method(value, inplace=True)', try using 'df.method({col: value}, inplace=True)' or df[col] = df[col].method(value) instead, to perform the operation inplace on the original object.\n",
      "\n",
      "\n",
      "  sc_wilcoxon[\"location_tag\"].fillna(\"NaN\", inplace=True)\n"
     ]
    },
    {
     "name": "stdout",
     "output_type": "stream",
     "text": [
      "Number of statistically significant genes between XXY and XY for cell type: Inhibitory interneurons 0\n",
      "Inhibitory neurons\n"
     ]
    },
    {
     "name": "stderr",
     "output_type": "stream",
     "text": [
      "c:\\Users\\PC\\miniconda3\\Lib\\site-packages\\scanpy\\preprocessing\\_simple.py:282: ImplicitModificationWarning: Trying to modify attribute `.var` of view, initializing view as actual.\n",
      "  adata.var[\"n_cells\"] = number\n",
      "C:\\Users\\PC\\AppData\\Local\\Temp\\ipykernel_22684\\3850618792.py:41: FutureWarning: The default of observed=False is deprecated and will be changed to True in a future version of pandas. Pass observed=False to retain current behavior or observed=True to adopt the future default and silence this warning.\n",
      "  mean_expression = expression_df.groupby(obs['genotype']).mean()\n"
     ]
    },
    {
     "name": "stdout",
     "output_type": "stream",
     "text": [
      "genotype\n",
      "XX     6842\n",
      "XXY    2826\n",
      "Name: count, dtype: int64\n"
     ]
    },
    {
     "name": "stderr",
     "output_type": "stream",
     "text": [
      "C:\\Users\\PC\\AppData\\Local\\Temp\\ipykernel_22684\\3850618792.py:82: FutureWarning: A value is trying to be set on a copy of a DataFrame or Series through chained assignment using an inplace method.\n",
      "The behavior will change in pandas 3.0. This inplace method will never work because the intermediate object on which we are setting values always behaves as a copy.\n",
      "\n",
      "For example, when doing 'df[col].method(value, inplace=True)', try using 'df.method({col: value}, inplace=True)' or df[col] = df[col].method(value) instead, to perform the operation inplace on the original object.\n",
      "\n",
      "\n",
      "  sc_wilcoxon[\"location_tag\"].fillna(\"NaN\", inplace=True)\n"
     ]
    },
    {
     "name": "stdout",
     "output_type": "stream",
     "text": [
      "Number of statistically significant genes between XXY and XX for cell type: Inhibitory neurons 1471\n"
     ]
    },
    {
     "name": "stderr",
     "output_type": "stream",
     "text": [
      "c:\\Users\\PC\\miniconda3\\Lib\\site-packages\\scanpy\\preprocessing\\_simple.py:282: ImplicitModificationWarning: Trying to modify attribute `.var` of view, initializing view as actual.\n",
      "  adata.var[\"n_cells\"] = number\n"
     ]
    },
    {
     "name": "stdout",
     "output_type": "stream",
     "text": [
      "genotype\n",
      "XY     7437\n",
      "XXY    2826\n",
      "Name: count, dtype: int64\n"
     ]
    },
    {
     "name": "stderr",
     "output_type": "stream",
     "text": [
      "C:\\Users\\PC\\AppData\\Local\\Temp\\ipykernel_22684\\3850618792.py:41: FutureWarning: The default of observed=False is deprecated and will be changed to True in a future version of pandas. Pass observed=False to retain current behavior or observed=True to adopt the future default and silence this warning.\n",
      "  mean_expression = expression_df.groupby(obs['genotype']).mean()\n",
      "C:\\Users\\PC\\AppData\\Local\\Temp\\ipykernel_22684\\3850618792.py:82: FutureWarning: A value is trying to be set on a copy of a DataFrame or Series through chained assignment using an inplace method.\n",
      "The behavior will change in pandas 3.0. This inplace method will never work because the intermediate object on which we are setting values always behaves as a copy.\n",
      "\n",
      "For example, when doing 'df[col].method(value, inplace=True)', try using 'df.method({col: value}, inplace=True)' or df[col] = df[col].method(value) instead, to perform the operation inplace on the original object.\n",
      "\n",
      "\n",
      "  sc_wilcoxon[\"location_tag\"].fillna(\"NaN\", inplace=True)\n"
     ]
    },
    {
     "name": "stdout",
     "output_type": "stream",
     "text": [
      "Number of statistically significant genes between XXY and XY for cell type: Inhibitory neurons 1335\n",
      "Limbic system neurons\n",
      "Microglia\n"
     ]
    },
    {
     "name": "stderr",
     "output_type": "stream",
     "text": [
      "c:\\Users\\PC\\miniconda3\\Lib\\site-packages\\scanpy\\preprocessing\\_simple.py:282: ImplicitModificationWarning: Trying to modify attribute `.var` of view, initializing view as actual.\n",
      "  adata.var[\"n_cells\"] = number\n",
      "C:\\Users\\PC\\AppData\\Local\\Temp\\ipykernel_22684\\3850618792.py:41: FutureWarning: The default of observed=False is deprecated and will be changed to True in a future version of pandas. Pass observed=False to retain current behavior or observed=True to adopt the future default and silence this warning.\n",
      "  mean_expression = expression_df.groupby(obs['genotype']).mean()\n"
     ]
    },
    {
     "name": "stdout",
     "output_type": "stream",
     "text": [
      "genotype\n",
      "XX     95\n",
      "XXY    24\n",
      "Name: count, dtype: int64\n",
      "Number of statistically significant genes between XXY and XX for cell type: Microglia 0\n"
     ]
    },
    {
     "name": "stderr",
     "output_type": "stream",
     "text": [
      "C:\\Users\\PC\\AppData\\Local\\Temp\\ipykernel_22684\\3850618792.py:82: FutureWarning: A value is trying to be set on a copy of a DataFrame or Series through chained assignment using an inplace method.\n",
      "The behavior will change in pandas 3.0. This inplace method will never work because the intermediate object on which we are setting values always behaves as a copy.\n",
      "\n",
      "For example, when doing 'df[col].method(value, inplace=True)', try using 'df.method({col: value}, inplace=True)' or df[col] = df[col].method(value) instead, to perform the operation inplace on the original object.\n",
      "\n",
      "\n",
      "  sc_wilcoxon[\"location_tag\"].fillna(\"NaN\", inplace=True)\n",
      "c:\\Users\\PC\\miniconda3\\Lib\\site-packages\\scanpy\\preprocessing\\_simple.py:282: ImplicitModificationWarning: Trying to modify attribute `.var` of view, initializing view as actual.\n",
      "  adata.var[\"n_cells\"] = number\n",
      "C:\\Users\\PC\\AppData\\Local\\Temp\\ipykernel_22684\\3850618792.py:41: FutureWarning: The default of observed=False is deprecated and will be changed to True in a future version of pandas. Pass observed=False to retain current behavior or observed=True to adopt the future default and silence this warning.\n",
      "  mean_expression = expression_df.groupby(obs['genotype']).mean()\n",
      "C:\\Users\\PC\\AppData\\Local\\Temp\\ipykernel_22684\\3850618792.py:82: FutureWarning: A value is trying to be set on a copy of a DataFrame or Series through chained assignment using an inplace method.\n",
      "The behavior will change in pandas 3.0. This inplace method will never work because the intermediate object on which we are setting values always behaves as a copy.\n",
      "\n",
      "For example, when doing 'df[col].method(value, inplace=True)', try using 'df.method({col: value}, inplace=True)' or df[col] = df[col].method(value) instead, to perform the operation inplace on the original object.\n",
      "\n",
      "\n",
      "  sc_wilcoxon[\"location_tag\"].fillna(\"NaN\", inplace=True)\n"
     ]
    },
    {
     "name": "stdout",
     "output_type": "stream",
     "text": [
      "genotype\n",
      "XY     42\n",
      "XXY    24\n",
      "Name: count, dtype: int64\n",
      "Number of statistically significant genes between XXY and XY for cell type: Microglia 0\n",
      "Oligodendrocytes\n"
     ]
    },
    {
     "name": "stderr",
     "output_type": "stream",
     "text": [
      "c:\\Users\\PC\\miniconda3\\Lib\\site-packages\\scanpy\\preprocessing\\_simple.py:282: ImplicitModificationWarning: Trying to modify attribute `.var` of view, initializing view as actual.\n",
      "  adata.var[\"n_cells\"] = number\n",
      "C:\\Users\\PC\\AppData\\Local\\Temp\\ipykernel_22684\\3850618792.py:41: FutureWarning: The default of observed=False is deprecated and will be changed to True in a future version of pandas. Pass observed=False to retain current behavior or observed=True to adopt the future default and silence this warning.\n",
      "  mean_expression = expression_df.groupby(obs['genotype']).mean()\n"
     ]
    },
    {
     "name": "stdout",
     "output_type": "stream",
     "text": [
      "genotype\n",
      "XX     1456\n",
      "XXY     236\n",
      "Name: count, dtype: int64\n"
     ]
    },
    {
     "name": "stderr",
     "output_type": "stream",
     "text": [
      "C:\\Users\\PC\\AppData\\Local\\Temp\\ipykernel_22684\\3850618792.py:82: FutureWarning: A value is trying to be set on a copy of a DataFrame or Series through chained assignment using an inplace method.\n",
      "The behavior will change in pandas 3.0. This inplace method will never work because the intermediate object on which we are setting values always behaves as a copy.\n",
      "\n",
      "For example, when doing 'df[col].method(value, inplace=True)', try using 'df.method({col: value}, inplace=True)' or df[col] = df[col].method(value) instead, to perform the operation inplace on the original object.\n",
      "\n",
      "\n",
      "  sc_wilcoxon[\"location_tag\"].fillna(\"NaN\", inplace=True)\n",
      "c:\\Users\\PC\\miniconda3\\Lib\\site-packages\\scanpy\\preprocessing\\_simple.py:282: ImplicitModificationWarning: Trying to modify attribute `.var` of view, initializing view as actual.\n",
      "  adata.var[\"n_cells\"] = number\n",
      "C:\\Users\\PC\\AppData\\Local\\Temp\\ipykernel_22684\\3850618792.py:41: FutureWarning: The default of observed=False is deprecated and will be changed to True in a future version of pandas. Pass observed=False to retain current behavior or observed=True to adopt the future default and silence this warning.\n",
      "  mean_expression = expression_df.groupby(obs['genotype']).mean()\n"
     ]
    },
    {
     "name": "stdout",
     "output_type": "stream",
     "text": [
      "Number of statistically significant genes between XXY and XX for cell type: Oligodendrocytes 49\n",
      "genotype\n",
      "XY     494\n",
      "XXY    236\n",
      "Name: count, dtype: int64\n"
     ]
    },
    {
     "name": "stderr",
     "output_type": "stream",
     "text": [
      "C:\\Users\\PC\\AppData\\Local\\Temp\\ipykernel_22684\\3850618792.py:82: FutureWarning: A value is trying to be set on a copy of a DataFrame or Series through chained assignment using an inplace method.\n",
      "The behavior will change in pandas 3.0. This inplace method will never work because the intermediate object on which we are setting values always behaves as a copy.\n",
      "\n",
      "For example, when doing 'df[col].method(value, inplace=True)', try using 'df.method({col: value}, inplace=True)' or df[col] = df[col].method(value) instead, to perform the operation inplace on the original object.\n",
      "\n",
      "\n",
      "  sc_wilcoxon[\"location_tag\"].fillna(\"NaN\", inplace=True)\n"
     ]
    },
    {
     "name": "stdout",
     "output_type": "stream",
     "text": [
      "Number of statistically significant genes between XXY and XY for cell type: Oligodendrocytes 8\n",
      "Purkinje neurons\n"
     ]
    },
    {
     "name": "stderr",
     "output_type": "stream",
     "text": [
      "c:\\Users\\PC\\miniconda3\\Lib\\site-packages\\scanpy\\preprocessing\\_simple.py:282: ImplicitModificationWarning: Trying to modify attribute `.var` of view, initializing view as actual.\n",
      "  adata.var[\"n_cells\"] = number\n",
      "C:\\Users\\PC\\AppData\\Local\\Temp\\ipykernel_22684\\3850618792.py:41: FutureWarning: The default of observed=False is deprecated and will be changed to True in a future version of pandas. Pass observed=False to retain current behavior or observed=True to adopt the future default and silence this warning.\n",
      "  mean_expression = expression_df.groupby(obs['genotype']).mean()\n",
      "C:\\Users\\PC\\AppData\\Local\\Temp\\ipykernel_22684\\3850618792.py:82: FutureWarning: A value is trying to be set on a copy of a DataFrame or Series through chained assignment using an inplace method.\n",
      "The behavior will change in pandas 3.0. This inplace method will never work because the intermediate object on which we are setting values always behaves as a copy.\n",
      "\n",
      "For example, when doing 'df[col].method(value, inplace=True)', try using 'df.method({col: value}, inplace=True)' or df[col] = df[col].method(value) instead, to perform the operation inplace on the original object.\n",
      "\n",
      "\n",
      "  sc_wilcoxon[\"location_tag\"].fillna(\"NaN\", inplace=True)\n"
     ]
    },
    {
     "name": "stdout",
     "output_type": "stream",
     "text": [
      "genotype\n",
      "XX     35\n",
      "XXY    22\n",
      "Name: count, dtype: int64\n",
      "Number of statistically significant genes between XXY and XX for cell type: Purkinje neurons 2\n",
      "Unipolar brush cells\n"
     ]
    },
    {
     "name": "stderr",
     "output_type": "stream",
     "text": [
      "c:\\Users\\PC\\miniconda3\\Lib\\site-packages\\scanpy\\preprocessing\\_simple.py:282: ImplicitModificationWarning: Trying to modify attribute `.var` of view, initializing view as actual.\n",
      "  adata.var[\"n_cells\"] = number\n",
      "C:\\Users\\PC\\AppData\\Local\\Temp\\ipykernel_22684\\3850618792.py:41: FutureWarning: The default of observed=False is deprecated and will be changed to True in a future version of pandas. Pass observed=False to retain current behavior or observed=True to adopt the future default and silence this warning.\n",
      "  mean_expression = expression_df.groupby(obs['genotype']).mean()\n",
      "C:\\Users\\PC\\AppData\\Local\\Temp\\ipykernel_22684\\3850618792.py:82: FutureWarning: A value is trying to be set on a copy of a DataFrame or Series through chained assignment using an inplace method.\n",
      "The behavior will change in pandas 3.0. This inplace method will never work because the intermediate object on which we are setting values always behaves as a copy.\n",
      "\n",
      "For example, when doing 'df[col].method(value, inplace=True)', try using 'df.method({col: value}, inplace=True)' or df[col] = df[col].method(value) instead, to perform the operation inplace on the original object.\n",
      "\n",
      "\n",
      "  sc_wilcoxon[\"location_tag\"].fillna(\"NaN\", inplace=True)\n",
      "c:\\Users\\PC\\miniconda3\\Lib\\site-packages\\scanpy\\preprocessing\\_simple.py:282: ImplicitModificationWarning: Trying to modify attribute `.var` of view, initializing view as actual.\n",
      "  adata.var[\"n_cells\"] = number\n",
      "C:\\Users\\PC\\AppData\\Local\\Temp\\ipykernel_22684\\3850618792.py:41: FutureWarning: The default of observed=False is deprecated and will be changed to True in a future version of pandas. Pass observed=False to retain current behavior or observed=True to adopt the future default and silence this warning.\n",
      "  mean_expression = expression_df.groupby(obs['genotype']).mean()\n",
      "C:\\Users\\PC\\AppData\\Local\\Temp\\ipykernel_22684\\3850618792.py:82: FutureWarning: A value is trying to be set on a copy of a DataFrame or Series through chained assignment using an inplace method.\n",
      "The behavior will change in pandas 3.0. This inplace method will never work because the intermediate object on which we are setting values always behaves as a copy.\n",
      "\n",
      "For example, when doing 'df[col].method(value, inplace=True)', try using 'df.method({col: value}, inplace=True)' or df[col] = df[col].method(value) instead, to perform the operation inplace on the original object.\n",
      "\n",
      "\n",
      "  sc_wilcoxon[\"location_tag\"].fillna(\"NaN\", inplace=True)\n"
     ]
    },
    {
     "name": "stdout",
     "output_type": "stream",
     "text": [
      "genotype\n",
      "XX     92\n",
      "XXY    14\n",
      "Name: count, dtype: int64\n",
      "Number of statistically significant genes between XXY and XX for cell type: Unipolar brush cells 0\n",
      "genotype\n",
      "XXY    14\n",
      "XY     13\n",
      "Name: count, dtype: int64\n",
      "Number of statistically significant genes between XXY and XY for cell type: Unipolar brush cells 0\n",
      "Vascular endothelial cells\n"
     ]
    },
    {
     "name": "stderr",
     "output_type": "stream",
     "text": [
      "c:\\Users\\PC\\miniconda3\\Lib\\site-packages\\scanpy\\preprocessing\\_simple.py:282: ImplicitModificationWarning: Trying to modify attribute `.var` of view, initializing view as actual.\n",
      "  adata.var[\"n_cells\"] = number\n",
      "C:\\Users\\PC\\AppData\\Local\\Temp\\ipykernel_22684\\3850618792.py:41: FutureWarning: The default of observed=False is deprecated and will be changed to True in a future version of pandas. Pass observed=False to retain current behavior or observed=True to adopt the future default and silence this warning.\n",
      "  mean_expression = expression_df.groupby(obs['genotype']).mean()\n"
     ]
    },
    {
     "name": "stdout",
     "output_type": "stream",
     "text": [
      "genotype\n",
      "XX     1241\n",
      "XXY     153\n",
      "Name: count, dtype: int64\n"
     ]
    },
    {
     "name": "stderr",
     "output_type": "stream",
     "text": [
      "C:\\Users\\PC\\AppData\\Local\\Temp\\ipykernel_22684\\3850618792.py:82: FutureWarning: A value is trying to be set on a copy of a DataFrame or Series through chained assignment using an inplace method.\n",
      "The behavior will change in pandas 3.0. This inplace method will never work because the intermediate object on which we are setting values always behaves as a copy.\n",
      "\n",
      "For example, when doing 'df[col].method(value, inplace=True)', try using 'df.method({col: value}, inplace=True)' or df[col] = df[col].method(value) instead, to perform the operation inplace on the original object.\n",
      "\n",
      "\n",
      "  sc_wilcoxon[\"location_tag\"].fillna(\"NaN\", inplace=True)\n",
      "c:\\Users\\PC\\miniconda3\\Lib\\site-packages\\scanpy\\preprocessing\\_simple.py:282: ImplicitModificationWarning: Trying to modify attribute `.var` of view, initializing view as actual.\n",
      "  adata.var[\"n_cells\"] = number\n",
      "C:\\Users\\PC\\AppData\\Local\\Temp\\ipykernel_22684\\3850618792.py:41: FutureWarning: The default of observed=False is deprecated and will be changed to True in a future version of pandas. Pass observed=False to retain current behavior or observed=True to adopt the future default and silence this warning.\n",
      "  mean_expression = expression_df.groupby(obs['genotype']).mean()\n"
     ]
    },
    {
     "name": "stdout",
     "output_type": "stream",
     "text": [
      "Number of statistically significant genes between XXY and XX for cell type: Vascular endothelial cells 44\n",
      "genotype\n",
      "XY     546\n",
      "XXY    153\n",
      "Name: count, dtype: int64\n",
      "Number of statistically significant genes between XXY and XY for cell type: Vascular endothelial cells 188\n"
     ]
    },
    {
     "name": "stderr",
     "output_type": "stream",
     "text": [
      "C:\\Users\\PC\\AppData\\Local\\Temp\\ipykernel_22684\\3850618792.py:82: FutureWarning: A value is trying to be set on a copy of a DataFrame or Series through chained assignment using an inplace method.\n",
      "The behavior will change in pandas 3.0. This inplace method will never work because the intermediate object on which we are setting values always behaves as a copy.\n",
      "\n",
      "For example, when doing 'df[col].method(value, inplace=True)', try using 'df.method({col: value}, inplace=True)' or df[col] = df[col].method(value) instead, to perform the operation inplace on the original object.\n",
      "\n",
      "\n",
      "  sc_wilcoxon[\"location_tag\"].fillna(\"NaN\", inplace=True)\n"
     ]
    }
   ],
   "source": [
    "# all DEG code\n",
    "# For comparing X and XXY to other genotypes\n",
    "# most updated code\n",
    "\n",
    "\n",
    "for cell_type in cell_type_list:\n",
    "    print(cell_type)\n",
    "    for geno in [\"XXY\"]:\n",
    "        if geno == \"X\":\n",
    "            adata_dis_fil_cont = adata_dis_fh.copy()\n",
    "        else:\n",
    "            adata_dis_fil_cont = adata_dis_sh.copy()\n",
    "        \n",
    "        for cont in [\"XX\", \"XY\"]:\n",
    "            if cont == \"XX\":\n",
    "                adata_dis_fil_fin = adata_dis_fil_cont[adata_dis_fil_cont.obs[\"genotype\"] != \"XY\"]\n",
    "            else:\n",
    "                adata_dis_fil_fin = adata_dis_fil_cont[adata_dis_fil_cont.obs[\"genotype\"] != \"XX\"]\n",
    "            \n",
    "            adata_ct = adata_dis_fil_fin[adata_dis_fil_fin.obs[\"predicted_cell_type\"] == cell_type]\n",
    "            if len(adata_ct.obs[\"genotype\"].value_counts()) < 2:\n",
    "                continue\n",
    "            sc.pp.filter_genes(adata_ct, min_cells=10)\n",
    "            print(adata_ct.obs[\"genotype\"].value_counts())\n",
    "            # Step 1: Extract the expression matrix and the observation DataFrame\n",
    "            X = adata_ct.X.todense()\n",
    "            obs = adata_ct.obs\n",
    "            var = adata_ct.var\n",
    "            \n",
    "            # Step 2: Convert the expression matrix to a DataFrame\n",
    "            expression_df = pd.DataFrame(X, index=obs.index, columns=var.index)\n",
    "            \n",
    "            # Step 3: Group by genotype and calculate the mean expression for each gene\n",
    "            mean_expression = expression_df.groupby(obs['genotype']).mean()\n",
    "            \n",
    "            # Step 4: Append mean values to the var DataFrame\n",
    "            # Adding columns for each genotype\n",
    "            for genotype in mean_expression.index:\n",
    "                var[f'mean_expression_{genotype}'] = mean_expression.loc[genotype].values\n",
    "            \n",
    "            sc.tl.rank_genes_groups(adata_ct, 'genotype', groups=[geno], method='wilcoxon', key_added=\"wilcoxon\")\n",
    "            \n",
    "            wilcoxon_results = adata_ct.uns['wilcoxon']\n",
    "            names = list(itertools.chain.from_iterable(wilcoxon_results['names'].tolist()))\n",
    "            pvals = list(itertools.chain.from_iterable(wilcoxon_results['pvals'].tolist()))  \n",
    "            pvals_adj = list(itertools.chain.from_iterable(wilcoxon_results['pvals_adj'].tolist())) \n",
    "            logfoldchanges = list(itertools.chain.from_iterable(wilcoxon_results['logfoldchanges'].tolist())) \n",
    "\n",
    "            results_df = pd.DataFrame({\n",
    "                'Gene': names,\n",
    "                'Log Fold Change': logfoldchanges,\n",
    "                'P-value': pvals,\n",
    "                'Adjusted P-value': pvals_adj,\n",
    "            })\n",
    "            add_info = adata_ct.var[[\"gene_short_name\", \"start\", \"end\", f\"mean_expression_{geno}\", f\"mean_expression_{cont}\"]]\n",
    "            # Merging with additional dataframes\n",
    "            sc_wilcoxon = results_df\n",
    "            sc_wilcoxon = pd.merge(sc_wilcoxon, var_test, on=\"Gene\", how=\"left\")\n",
    "            sc_wilcoxon = pd.merge(sc_wilcoxon, par_df, on=\"Gene\", how=\"left\")\n",
    "\n",
    "            sc_wilcoxon = sc_wilcoxon.merge(add_info, left_on='Gene', right_on='gene_short_name', how='left')\n",
    "            sc_wilcoxon.drop(columns=[\"gene_short_name\"], inplace=True)\n",
    "\n",
    "            # Create a mask to filter out rows where any of the required columns are NaN\n",
    "            mask = sc_wilcoxon[['chromosome', 'start', 'end']].notna().all(axis=1)\n",
    "            \n",
    "            # Create loc_tag only for rows that meet the criteria\n",
    "            sc_wilcoxon.loc[mask, \"location_tag\"] = (\n",
    "                \"chr\" + sc_wilcoxon.loc[mask, \"chromosome\"].astype(str) + \":\" +\n",
    "                sc_wilcoxon.loc[mask, \"start\"].astype(float).astype(int).astype(str) + \"-\" +\n",
    "                sc_wilcoxon.loc[mask, \"end\"].astype(float).astype(int).astype(str)\n",
    "            )\n",
    "            \n",
    "            # Fill NaN for loc_tag where the mask is False\n",
    "            sc_wilcoxon[\"location_tag\"].fillna(\"NaN\", inplace=True)\n",
    "\n",
    "\n",
    "            adj = sc_wilcoxon[sc_wilcoxon[\"Adjusted P-value\"] < 0.05]\n",
    "            print(f\"Number of statistically significant genes between {geno} and {cont} for cell type: {cell_type}\", len(adj)) # number of differentially expressed genes that are statistically significant    \n",
    "\n",
    "            # # # Filter for Log Fold Change > 0\n",
    "            positive_df = sc_wilcoxon[sc_wilcoxon[\"Log Fold Change\"] > 0]\n",
    "            negative_df = sc_wilcoxon[sc_wilcoxon[\"Log Fold Change\"] < 0]\n",
    "\n",
    "            # # Combine positive results into one DataFrame\n",
    "            pos_significant = positive_df[positive_df[\"Adjusted P-value\"] < 0.05]\n",
    "            pos_significant = pos_significant.sort_values(\"Log Fold Change\", ascending = False)\n",
    "            pos_non_significant = positive_df[positive_df[\"Adjusted P-value\"] >= 0.05]\n",
    "            pos_non_significant = pos_non_significant.sort_values(\"Log Fold Change\", ascending = False)\n",
    "            combined_pos_df = pd.concat([pos_significant, pos_non_significant])\n",
    "\n",
    "            \n",
    "\n",
    "            \n",
    "            # # Combine negative results into one DataFrame\n",
    "            neg_significant = negative_df[negative_df[\"Adjusted P-value\"] < 0.05]\n",
    "            neg_significant = neg_significant.sort_values(\"Log Fold Change\", ascending = True)\n",
    "            neg_non_significant = negative_df[negative_df[\"Adjusted P-value\"] >= 0.05]\n",
    "            neg_non_significant = neg_non_significant.sort_values(\"Log Fold Change\", ascending = True)\n",
    "            combined_neg_df = pd.concat([neg_significant, neg_non_significant])\n",
    "\n",
    "            # create loop that does this for all files in the wilcoxon_all folder\n",
    "\n",
    "\n",
    "\n",
    "            # # Save combined positive results\n",
    "            combined_pos_df.to_csv(f'D:/newgenes/results/wilcoxon_xxy/{cell_type}_{geno}_{cont}_combined_positive.csv', index=False)\n",
    "\n",
    "            # # Save combined negative results\n",
    "            combined_neg_df.to_csv(f'D:/newgenes/results/wilcoxon_xxy/{cell_type}_{geno}_{cont}_combined_negative.csv', index=False)"
   ]
  },
  {
   "cell_type": "markdown",
   "metadata": {},
   "source": [
    "Cumulative Differential Gene Expression Results for Genotype Comparisons\n",
    "\n",
    "This section performs differential gene expression analysis between different genotypes (e.g., \"X\" vs. \"XX\") for each cell type in the cell_type_list. The key steps are as follows:\n",
    "\n",
    "    Data Filtering: The data is filtered by genotype and age group. The analysis is performed for the \"X\" genotype against \"XX\", and further comparisons are possible based on other genotypes.\n",
    "    Wilcoxon Rank-Sum Test: The Wilcoxon rank-sum test is used to identify differentially expressed genes between the selected genotypes. The results are stored in a DataFrame containing gene names, log fold change, p-value, and adjusted p-value.\n",
    "    Merging Results: The results for each cell type are merged into a cumulative DataFrame. This includes log fold changes, p-values, and other relevant information, organized by cell type and genotype.\n",
    "    Result Compilation: The cumulative results are compiled for each genotype and cell type, storing them in the dictionary sig_gene_dict_sc.\n",
    "    Printing Results: The number of statistically significant genes for each genotype comparison and cell type is printed.\n",
    "\n",
    "By iterating over the genotypes and cell types, this script creates a comprehensive list of genes differentially expressed across various conditions, which can be saved for further analysis."
   ]
  },
  {
   "cell_type": "code",
   "execution_count": null,
   "metadata": {},
   "outputs": [
    {
     "name": "stderr",
     "output_type": "stream",
     "text": [
      "c:\\Users\\PC\\miniconda3\\Lib\\site-packages\\scanpy\\preprocessing\\_normalization.py:207: UserWarning: Received a view of an AnnData. Making a copy.\n",
      "  view_to_actual(adata)\n"
     ]
    },
    {
     "name": "stdout",
     "output_type": "stream",
     "text": [
      "Astrocytes X XX\n",
      "genotype\n",
      "X     6408\n",
      "XX    3036\n",
      "Name: count, dtype: int64\n",
      "Number of statistically significant genes between X and XX for cell type: Astrocytes 28683\n"
     ]
    },
    {
     "name": "stderr",
     "output_type": "stream",
     "text": [
      "c:\\Users\\PC\\miniconda3\\Lib\\site-packages\\scanpy\\preprocessing\\_normalization.py:207: UserWarning: Received a view of an AnnData. Making a copy.\n",
      "  view_to_actual(adata)\n"
     ]
    },
    {
     "name": "stdout",
     "output_type": "stream",
     "text": [
      "Excitatory neurons X XX\n",
      "genotype\n",
      "XX    31605\n",
      "X     21507\n",
      "Name: count, dtype: int64\n",
      "Number of statistically significant genes between X and XX for cell type: Excitatory neurons 28683\n"
     ]
    },
    {
     "name": "stderr",
     "output_type": "stream",
     "text": [
      "c:\\Users\\PC\\miniconda3\\Lib\\site-packages\\scanpy\\preprocessing\\_normalization.py:207: UserWarning: Received a view of an AnnData. Making a copy.\n",
      "  view_to_actual(adata)\n"
     ]
    },
    {
     "name": "stdout",
     "output_type": "stream",
     "text": [
      "Granule neurons X XX\n",
      "genotype\n",
      "XX    1045\n",
      "X       73\n",
      "Name: count, dtype: int64\n",
      "Number of statistically significant genes between X and XX for cell type: Granule neurons 28683\n"
     ]
    },
    {
     "name": "stderr",
     "output_type": "stream",
     "text": [
      "c:\\Users\\PC\\miniconda3\\Lib\\site-packages\\scanpy\\preprocessing\\_normalization.py:207: UserWarning: Received a view of an AnnData. Making a copy.\n",
      "  view_to_actual(adata)\n"
     ]
    },
    {
     "name": "stdout",
     "output_type": "stream",
     "text": [
      "Inhibitory interneurons X XX\n",
      "genotype\n",
      "XX    515\n",
      "X      65\n",
      "Name: count, dtype: int64\n",
      "Number of statistically significant genes between X and XX for cell type: Inhibitory interneurons 28683\n"
     ]
    },
    {
     "name": "stderr",
     "output_type": "stream",
     "text": [
      "c:\\Users\\PC\\miniconda3\\Lib\\site-packages\\scanpy\\preprocessing\\_normalization.py:207: UserWarning: Received a view of an AnnData. Making a copy.\n",
      "  view_to_actual(adata)\n"
     ]
    },
    {
     "name": "stdout",
     "output_type": "stream",
     "text": [
      "Inhibitory neurons X XX\n",
      "genotype\n",
      "X     41806\n",
      "XX    21537\n",
      "Name: count, dtype: int64\n",
      "Number of statistically significant genes between X and XX for cell type: Inhibitory neurons 28683\n"
     ]
    },
    {
     "name": "stderr",
     "output_type": "stream",
     "text": [
      "c:\\Users\\PC\\miniconda3\\Lib\\site-packages\\scanpy\\preprocessing\\_normalization.py:207: UserWarning: Received a view of an AnnData. Making a copy.\n",
      "  view_to_actual(adata)\n"
     ]
    },
    {
     "name": "stdout",
     "output_type": "stream",
     "text": [
      "Limbic system neurons X XX\n",
      "genotype\n",
      "X     6151\n",
      "XX    4132\n",
      "Name: count, dtype: int64\n",
      "Number of statistically significant genes between X and XX for cell type: Limbic system neurons 28683\n"
     ]
    },
    {
     "name": "stderr",
     "output_type": "stream",
     "text": [
      "c:\\Users\\PC\\miniconda3\\Lib\\site-packages\\scanpy\\preprocessing\\_normalization.py:207: UserWarning: Received a view of an AnnData. Making a copy.\n",
      "  view_to_actual(adata)\n"
     ]
    },
    {
     "name": "stdout",
     "output_type": "stream",
     "text": [
      "Microglia X XX\n",
      "genotype\n",
      "X     192\n",
      "XX    114\n",
      "Name: count, dtype: int64\n",
      "Number of statistically significant genes between X and XX for cell type: Microglia 28683\n"
     ]
    },
    {
     "name": "stderr",
     "output_type": "stream",
     "text": [
      "c:\\Users\\PC\\miniconda3\\Lib\\site-packages\\scanpy\\preprocessing\\_normalization.py:207: UserWarning: Received a view of an AnnData. Making a copy.\n",
      "  view_to_actual(adata)\n"
     ]
    },
    {
     "name": "stdout",
     "output_type": "stream",
     "text": [
      "Oligodendrocytes X XX\n",
      "genotype\n",
      "X     3396\n",
      "XX    1472\n",
      "Name: count, dtype: int64\n",
      "Number of statistically significant genes between X and XX for cell type: Oligodendrocytes 28683\n"
     ]
    },
    {
     "name": "stderr",
     "output_type": "stream",
     "text": [
      "c:\\Users\\PC\\miniconda3\\Lib\\site-packages\\scanpy\\preprocessing\\_normalization.py:207: UserWarning: Received a view of an AnnData. Making a copy.\n",
      "  view_to_actual(adata)\n"
     ]
    },
    {
     "name": "stdout",
     "output_type": "stream",
     "text": [
      "Purkinje neurons X XX\n",
      "genotype\n",
      "XX    3475\n",
      "X        5\n",
      "Name: count, dtype: int64\n",
      "Number of statistically significant genes between X and XX for cell type: Purkinje neurons 28683\n"
     ]
    },
    {
     "name": "stderr",
     "output_type": "stream",
     "text": [
      "c:\\Users\\PC\\miniconda3\\Lib\\site-packages\\scanpy\\preprocessing\\_normalization.py:207: UserWarning: Received a view of an AnnData. Making a copy.\n",
      "  view_to_actual(adata)\n"
     ]
    },
    {
     "name": "stdout",
     "output_type": "stream",
     "text": [
      "SLC24A4_PEX5L positive cells X XX\n",
      "genotype\n",
      "X     38\n",
      "XX    28\n",
      "Name: count, dtype: int64\n",
      "Number of statistically significant genes between X and XX for cell type: SLC24A4_PEX5L positive cells 28683\n"
     ]
    },
    {
     "name": "stderr",
     "output_type": "stream",
     "text": [
      "c:\\Users\\PC\\miniconda3\\Lib\\site-packages\\scanpy\\preprocessing\\_normalization.py:207: UserWarning: Received a view of an AnnData. Making a copy.\n",
      "  view_to_actual(adata)\n"
     ]
    },
    {
     "name": "stdout",
     "output_type": "stream",
     "text": [
      "Unipolar brush cells X XX\n",
      "genotype\n",
      "XX    56\n",
      "X     35\n",
      "Name: count, dtype: int64\n",
      "Number of statistically significant genes between X and XX for cell type: Unipolar brush cells 28683\n"
     ]
    },
    {
     "name": "stderr",
     "output_type": "stream",
     "text": [
      "c:\\Users\\PC\\miniconda3\\Lib\\site-packages\\scanpy\\preprocessing\\_normalization.py:207: UserWarning: Received a view of an AnnData. Making a copy.\n",
      "  view_to_actual(adata)\n"
     ]
    },
    {
     "name": "stdout",
     "output_type": "stream",
     "text": [
      "Vascular endothelial cells X XX\n",
      "genotype\n",
      "X     1691\n",
      "XX    1042\n",
      "Name: count, dtype: int64\n",
      "Number of statistically significant genes between X and XX for cell type: Vascular endothelial cells 28683\n"
     ]
    }
   ],
   "source": [
    "## to make cumulative page X XX\n",
    "\n",
    "sig_gene_dict_sc = {\n",
    "    \"X_XX\": [],\n",
    "    \"X_XY\": [],\n",
    "    \"XXY_XX\": [],\n",
    "    \"XXY_XY\": []\n",
    "}\n",
    "\n",
    "def add_dataframes(compiled_df, new_df, cell_type):\n",
    "    # Rename columns to include cell_type as prefix\n",
    "    #print(\"print og_new_df\")\n",
    "    #print(new_df)\n",
    "    new_df = new_df.rename(columns={\n",
    "        \"Log Fold Change\": f\"{cell_type} Log Fold Change\",\n",
    "        \"P-value\": f\"{cell_type} P-value\",\n",
    "        \"Adjusted P-Value\": f\"{cell_type} Adjusted P-value\"\n",
    "    })\n",
    "    #print(\"First new_df\")\n",
    "    #print(new_df)\n",
    "    #print(new_df.columns)\n",
    "    # Ensure only relevant columns are kept\n",
    "    new_df = new_df[[\"Gene\", f\"{cell_type} Log Fold Change\", f\"{cell_type} P-value\", f\"{cell_type} Adjusted P-value\"]]\n",
    "    #print(\"second new_df\")\n",
    "    #print(new_df)\n",
    "    # Merge with the previously compiled dataframe\n",
    "    if compiled_df is None:\n",
    "        compiled_df = new_df\n",
    "    else:\n",
    "        compiled_df = pd.merge(compiled_df, new_df, on=\"Gene\", how=\"outer\")\n",
    "    \n",
    "    return compiled_df\n",
    "\n",
    "x_xx = None\n",
    "\n",
    "for cell_type in cell_type_list:\n",
    "    for geno in [\"X\"]: #, \"XXY\"]:\n",
    "        if geno == \"X\":\n",
    "            adata_dis_fil = adata_dis[adata_dis.obs[\"age\"] <= 105]\n",
    "        else:\n",
    "            adata_dis_fil = adata_dis[adata_dis.obs[\"age\"] > 110]\n",
    "        for cont in [\"XX\"]:#, \"XY\"]:\n",
    "            if cont == \"XX\":\n",
    "                adata_dis_fil_cont = adata_dis_fil[adata_dis_fil.obs[\"genotype\"] != \"XY\"]\n",
    "            else:\n",
    "                adata_dis_fil_cont = adata_dis_fil[adata_dis_fil.obs[\"genotype\"] != \"XX\"]\n",
    "            #print(adata_dis_fil_cont.obs[\"genotype\"].unique())\n",
    "            adata_ct = adata_dis_fil_cont[adata_dis_fil_cont.obs[\"predicted_cell_type\"] == cell_type] # iterate through each cell type\n",
    "            if len(adata_ct.obs[\"genotype\"].value_counts()) < 2:\n",
    "                continue\n",
    "            #sc.pp.filter_genes(adata_ct, min_counts=1)\n",
    "            #print(adata_ct)\n",
    "            sc.pp.normalize_total(adata_ct)\n",
    "            sc.pp.log1p(adata_ct)\n",
    "            print(cell_type, geno, cont)\n",
    "            print(adata_ct.obs[\"genotype\"].value_counts())\n",
    "\n",
    "            sc.tl.rank_genes_groups(adata_ct, 'genotype', groups=[cont], method='wilcoxon', key_added = \"wilcoxon\")\n",
    "            #print(adata_ct)\n",
    "\n",
    "            # Accessing dictionaries from adata_ct.uns['wilcoxon']\n",
    "            wilcoxon_results = adata_ct.uns['wilcoxon']\n",
    "\n",
    "            # Extracting names, pvals_adj, and logfoldchanges\n",
    "            names = list(itertools.chain.from_iterable(wilcoxon_results['names'].tolist()))\n",
    "            pvals = list(itertools.chain.from_iterable(wilcoxon_results['pvals'].tolist()))  \n",
    "            pvals_adj = list(itertools.chain.from_iterable(wilcoxon_results['pvals_adj'].tolist())) \n",
    "            logfoldchanges = list(itertools.chain.from_iterable(wilcoxon_results['logfoldchanges'].tolist())) \n",
    "            \n",
    "            # Creating a DataFrame\n",
    "            results_df = pd.DataFrame({\n",
    "                'Gene': names,\n",
    "                'Log Fold Change': logfoldchanges,\n",
    "                'P-value': pvals,\n",
    "                'Adjusted P-Value': pvals_adj,\n",
    "            })\n",
    "            \n",
    "            sc_wilcoxon = results_df\n",
    "            sc_wilcoxon = pd.merge(sc_wilcoxon, var_test, on=\"Gene\", how=\"left\")\n",
    "            sc_wilcoxon = pd.merge(sc_wilcoxon, par_df, on=\"Gene\", how=\"left\")\n",
    "            sc_wilcoxon = sc_wilcoxon.sort_values('Gene')\n",
    "\n",
    "            \n",
    "            #print(sc_wilcoxon)\n",
    "            x_xx = add_dataframes(x_xx, sc_wilcoxon, cell_type)\n",
    "\n",
    "            # sc_wilcoxon = sc_wilcoxon[sc_wilcoxon[\"Adjusted P-Value\"] < 0.01]\n",
    "            # sc_wilcoxon = sc_wilcoxon.sort_values('Log Fold Change', ascending = False)\n",
    "            # sc_head = sc_wilcoxon.head(20)\n",
    "            # sc_head = sc_head[sc_head[\"Log Fold Change\"] > 0]\n",
    "            # sc_tail = sc_wilcoxon.tail(20)\n",
    "            # sc_tail = sc_tail[sc_tail[\"Log Fold Change\"] < 0]\n",
    "\n",
    "            # sc_wilcoxon_non_sig = results_df\n",
    "            # sc_wilcoxon_non_sig = pd.merge(sc_wilcoxon_non_sig, var_test, on=\"Gene\", how=\"left\")\n",
    "            # sc_wilcoxon_non_sig = pd.merge(sc_wilcoxon_non_sig, par_df, on=\"Gene\", how=\"left\")\n",
    "            # sc_wilcoxon_non_sig = sc_wilcoxon_non_sig.sort_values('Log Fold Change', ascending = False)\n",
    "\n",
    "            # if len(sc_head) < 20:\n",
    "            #     remainder_h = sc_wilcoxon_non_sig.head(20 - len(sc_head))\n",
    "            #     # Combine DataFrames row-wise\n",
    "            #     result_head = pd.concat([sc_head, remainder_h], axis=0, ignore_index=True)\n",
    "            #     result_head.to_csv(f\"D:/newgenes/results/wilcoxon/{cell_type}_{geno}_{cont}_head20.csv\", index=False)\n",
    "\n",
    "            # else:\n",
    "            #     sc_head.to_csv(f\"D:/newgenes/results/wilcoxon/{cell_type}_{geno}_{cont}_head20.csv\", index=False)\n",
    "            \n",
    "            # if len(sc_tail) < 20:\n",
    "            #     remainder_t = sc_wilcoxon_non_sig.tail(20 - len(sc_tail))\n",
    "            #     # Combine DataFrames row-wise\n",
    "            #     result_tail = pd.concat([sc_tail, remainder_t], axis=0, ignore_index=True)\n",
    "            #     result_tail.to_csv(f\"D:/newgenes/results/wilcoxon/{cell_type}_{geno}_{cont}_tail20.csv\", index=False)\n",
    "\n",
    "            # else:\n",
    "            #     sc_tail.to_csv(f\"D:/newgenes/results/wilcoxon/{cell_type}_{geno}_{cont}_tail20.csv\", index=False)\n",
    "\n",
    "            print(f\"Number of statistically significant genes between {geno} and {cont} for cell type: {cell_type}\", len(sc_wilcoxon)) # number of differentially expressed genes that are statistically significant             \n",
    "            # sc_par = sc_wilcoxon_non_sig[sc_wilcoxon_non_sig[\"Is_escape\"] == True]\n",
    "            # sc_par.to_csv(f\"D:/newgenes/results/wilcoxon/{cell_type}_{geno}_{cont}_escape.csv\", index=False)\n",
    "\n",
    "\n"
   ]
  },
  {
   "cell_type": "code",
   "execution_count": null,
   "metadata": {},
   "outputs": [],
   "source": [
    "x_xx = pd.merge(x_xx, var_test, on=\"Gene\", how=\"left\")\n",
    "x_xx = pd.merge(x_xx, par_df, on=\"Gene\", how=\"left\")"
   ]
  },
  {
   "cell_type": "code",
   "execution_count": null,
   "metadata": {},
   "outputs": [],
   "source": [
    "x_xx.to_csv(\"D:/newgenes/results/wilcoxon/x_xx.csv\", index=False)"
   ]
  },
  {
   "cell_type": "markdown",
   "metadata": {},
   "source": [
    "Cumulative Differential Gene Expression Analysis for XXY vs. XY\n",
    "\n",
    "This section performs differential gene expression analysis comparing the \"XXY\" genotype against \"XY\" for each cell type in the cell_type_list. The key steps and actions performed in this process are outlined below:\n",
    "\n",
    "    Filtering Data by Genotype and Age: The adata_dis dataset is filtered based on genotype and age group. Specifically, this analysis compares the \"XXY\" genotype to the \"XY\" genotype.\n",
    "\n",
    "    Gene Expression Normalization: The expression data for each cell type is normalized using sc.pp.normalize_total() and log-transformed with sc.pp.log1p() to adjust for any potential bias in sequencing depth.\n",
    "\n",
    "    Wilcoxon Rank-Sum Test: For each cell type, a Wilcoxon rank-sum test is applied to determine differentially expressed genes between \"XXY\" and \"XY\". The test outputs include gene names, log fold changes, p-values, and adjusted p-values.\n",
    "\n",
    "    Data Merging: The results from the Wilcoxon test for each cell type are merged into a cumulative DataFrame. The merged results include:\n",
    "        Gene names\n",
    "        Log Fold Change\n",
    "        P-value\n",
    "        Adjusted P-value\n",
    "        Information from var_test and par_df dataframes, including additional gene annotations (e.g., start, end, chromosome).\n",
    "\n",
    "    Result Compilation: After processing all cell types and genotypes, the results are compiled into a single DataFrame (xxy_xy) which contains the merged statistics across all cell types.\n",
    "\n",
    "    Saving Results: The final results for the comparison between \"XXY\" and \"XY\" are saved to a CSV file (xxy_xy.csv), located in the specified directory."
   ]
  },
  {
   "cell_type": "code",
   "execution_count": null,
   "metadata": {},
   "outputs": [
    {
     "name": "stderr",
     "output_type": "stream",
     "text": [
      "c:\\Users\\PC\\miniconda3\\Lib\\site-packages\\scanpy\\preprocessing\\_normalization.py:207: UserWarning: Received a view of an AnnData. Making a copy.\n",
      "  view_to_actual(adata)\n"
     ]
    },
    {
     "name": "stdout",
     "output_type": "stream",
     "text": [
      "Astrocytes XXY XY\n",
      "genotype\n",
      "XY     175\n",
      "XXY    143\n",
      "Name: count, dtype: int64\n",
      "28683\n",
      "28683\n",
      "28683\n",
      "28683\n",
      "28683\n",
      "Number of statistically significant genes between XXY and XY for cell type: Astrocytes 28683\n"
     ]
    },
    {
     "name": "stderr",
     "output_type": "stream",
     "text": [
      "c:\\Users\\PC\\miniconda3\\Lib\\site-packages\\scanpy\\preprocessing\\_normalization.py:207: UserWarning: Received a view of an AnnData. Making a copy.\n",
      "  view_to_actual(adata)\n"
     ]
    },
    {
     "name": "stdout",
     "output_type": "stream",
     "text": [
      "Excitatory neurons XXY XY\n",
      "genotype\n",
      "XY     49486\n",
      "XXY    11745\n",
      "Name: count, dtype: int64\n",
      "28683\n",
      "28683\n",
      "28683\n",
      "28683\n",
      "28683\n",
      "Number of statistically significant genes between XXY and XY for cell type: Excitatory neurons 28683\n",
      "Granule neurons XXY XY\n",
      "genotype\n",
      "XXY    70\n",
      "XY     20\n",
      "Name: count, dtype: int64\n"
     ]
    },
    {
     "name": "stderr",
     "output_type": "stream",
     "text": [
      "c:\\Users\\PC\\miniconda3\\Lib\\site-packages\\scanpy\\preprocessing\\_normalization.py:207: UserWarning: Received a view of an AnnData. Making a copy.\n",
      "  view_to_actual(adata)\n"
     ]
    },
    {
     "name": "stdout",
     "output_type": "stream",
     "text": [
      "28683\n",
      "28683\n",
      "28683\n",
      "28683\n",
      "28683\n",
      "Number of statistically significant genes between XXY and XY for cell type: Granule neurons 28683\n",
      "Inhibitory interneurons XXY XY\n",
      "genotype\n",
      "XXY    56\n",
      "XY      9\n",
      "Name: count, dtype: int64\n"
     ]
    },
    {
     "name": "stderr",
     "output_type": "stream",
     "text": [
      "c:\\Users\\PC\\miniconda3\\Lib\\site-packages\\scanpy\\preprocessing\\_normalization.py:207: UserWarning: Received a view of an AnnData. Making a copy.\n",
      "  view_to_actual(adata)\n"
     ]
    },
    {
     "name": "stdout",
     "output_type": "stream",
     "text": [
      "28683\n",
      "28683\n",
      "28683\n",
      "28683\n",
      "28683\n",
      "Number of statistically significant genes between XXY and XY for cell type: Inhibitory interneurons 28683\n"
     ]
    },
    {
     "name": "stderr",
     "output_type": "stream",
     "text": [
      "c:\\Users\\PC\\miniconda3\\Lib\\site-packages\\scanpy\\preprocessing\\_normalization.py:207: UserWarning: Received a view of an AnnData. Making a copy.\n",
      "  view_to_actual(adata)\n"
     ]
    },
    {
     "name": "stdout",
     "output_type": "stream",
     "text": [
      "Inhibitory neurons XXY XY\n",
      "genotype\n",
      "XY     7437\n",
      "XXY    2826\n",
      "Name: count, dtype: int64\n",
      "28683\n",
      "28683\n",
      "28683\n",
      "28683\n",
      "28683\n",
      "Number of statistically significant genes between XXY and XY for cell type: Inhibitory neurons 28683\n"
     ]
    },
    {
     "name": "stderr",
     "output_type": "stream",
     "text": [
      "c:\\Users\\PC\\miniconda3\\Lib\\site-packages\\scanpy\\preprocessing\\_normalization.py:207: UserWarning: Received a view of an AnnData. Making a copy.\n",
      "  view_to_actual(adata)\n"
     ]
    },
    {
     "name": "stdout",
     "output_type": "stream",
     "text": [
      "Microglia XXY XY\n",
      "genotype\n",
      "XY     42\n",
      "XXY    24\n",
      "Name: count, dtype: int64\n",
      "28683\n",
      "28683\n",
      "28683\n",
      "28683\n",
      "28683\n",
      "Number of statistically significant genes between XXY and XY for cell type: Microglia 28683\n"
     ]
    },
    {
     "name": "stderr",
     "output_type": "stream",
     "text": [
      "c:\\Users\\PC\\miniconda3\\Lib\\site-packages\\scanpy\\preprocessing\\_normalization.py:207: UserWarning: Received a view of an AnnData. Making a copy.\n",
      "  view_to_actual(adata)\n"
     ]
    },
    {
     "name": "stdout",
     "output_type": "stream",
     "text": [
      "Oligodendrocytes XXY XY\n",
      "genotype\n",
      "XY     494\n",
      "XXY    236\n",
      "Name: count, dtype: int64\n",
      "28683\n",
      "28683\n",
      "28683\n",
      "28683\n",
      "28683\n",
      "Number of statistically significant genes between XXY and XY for cell type: Oligodendrocytes 28683\n"
     ]
    },
    {
     "name": "stderr",
     "output_type": "stream",
     "text": [
      "c:\\Users\\PC\\miniconda3\\Lib\\site-packages\\scanpy\\preprocessing\\_normalization.py:207: UserWarning: Received a view of an AnnData. Making a copy.\n",
      "  view_to_actual(adata)\n"
     ]
    },
    {
     "name": "stdout",
     "output_type": "stream",
     "text": [
      "SLC24A4_PEX5L positive cells XXY XY\n",
      "genotype\n",
      "XXY    4\n",
      "XY     2\n",
      "Name: count, dtype: int64\n",
      "28683\n",
      "28683\n",
      "28683\n",
      "28683\n",
      "28683\n",
      "Number of statistically significant genes between XXY and XY for cell type: SLC24A4_PEX5L positive cells 28683\n"
     ]
    },
    {
     "name": "stderr",
     "output_type": "stream",
     "text": [
      "c:\\Users\\PC\\miniconda3\\Lib\\site-packages\\scanpy\\preprocessing\\_normalization.py:207: UserWarning: Received a view of an AnnData. Making a copy.\n",
      "  view_to_actual(adata)\n"
     ]
    },
    {
     "name": "stdout",
     "output_type": "stream",
     "text": [
      "Unipolar brush cells XXY XY\n",
      "genotype\n",
      "XXY    14\n",
      "XY     13\n",
      "Name: count, dtype: int64\n",
      "28683\n",
      "28683\n",
      "28683\n",
      "28683\n",
      "28683\n",
      "Number of statistically significant genes between XXY and XY for cell type: Unipolar brush cells 28683\n"
     ]
    },
    {
     "name": "stderr",
     "output_type": "stream",
     "text": [
      "c:\\Users\\PC\\miniconda3\\Lib\\site-packages\\scanpy\\preprocessing\\_normalization.py:207: UserWarning: Received a view of an AnnData. Making a copy.\n",
      "  view_to_actual(adata)\n"
     ]
    },
    {
     "name": "stdout",
     "output_type": "stream",
     "text": [
      "Vascular endothelial cells XXY XY\n",
      "genotype\n",
      "XY     546\n",
      "XXY    153\n",
      "Name: count, dtype: int64\n",
      "28683\n",
      "28683\n",
      "28683\n",
      "28683\n",
      "28683\n",
      "Number of statistically significant genes between XXY and XY for cell type: Vascular endothelial cells 28683\n"
     ]
    }
   ],
   "source": [
    "## to make cumulative page XXY XY\n",
    "\n",
    "sig_gene_dict_sc = {\n",
    "    \"X_XX\": [],\n",
    "    \"X_XY\": [],\n",
    "    \"XXY_XX\": [],\n",
    "    \"XXY_XY\": []\n",
    "}\n",
    "\n",
    "def add_dataframes(compiled_df, new_df, cell_type):\n",
    "    # Rename columns to include cell_type as prefix\n",
    "    #print(\"print og_new_df\")\n",
    "    #print(new_df)\n",
    "    new_df = new_df.rename(columns={\n",
    "        \"Log Fold Change\": f\"{cell_type} Log Fold Change\",\n",
    "        \"P-value\": f\"{cell_type} P-value\",\n",
    "        \"Adjusted P-Value\": f\"{cell_type} Adjusted P-value\"\n",
    "    })\n",
    "    #print(\"First new_df\")\n",
    "    #print(new_df)\n",
    "    #print(new_df.columns)\n",
    "    # Ensure only relevant columns are kept\n",
    "    new_df = new_df[[\"Gene\", f\"{cell_type} Log Fold Change\", f\"{cell_type} P-value\", f\"{cell_type} Adjusted P-value\"]]\n",
    "    #print(\"second new_df\")\n",
    "    #print(new_df)\n",
    "    # Merge with the previously compiled dataframe\n",
    "    if compiled_df is None:\n",
    "        compiled_df = new_df\n",
    "    else:\n",
    "        compiled_df = pd.merge(compiled_df, new_df, on=\"Gene\", how=\"outer\")\n",
    "    \n",
    "    return compiled_df\n",
    "\n",
    "xxy_xy = None\n",
    "\n",
    "for cell_type in cell_type_list:\n",
    "    for geno in [\"XXY\"]: #, \"XXY\"]:\n",
    "        if geno == \"X\":\n",
    "            adata_dis_fil = adata_dis[adata_dis.obs[\"age\"] <= 105]\n",
    "        else:\n",
    "            adata_dis_fil = adata_dis[adata_dis.obs[\"age\"] > 110]\n",
    "        for cont in [\"XY\"]:#, \"XY\"]:\n",
    "            if cont == \"XX\":\n",
    "                adata_dis_fil_cont = adata_dis_fil[adata_dis_fil.obs[\"genotype\"] != \"XY\"]\n",
    "            else:\n",
    "                adata_dis_fil_cont = adata_dis_fil[adata_dis_fil.obs[\"genotype\"] != \"XX\"]\n",
    "            #print(adata_dis_fil_cont.obs[\"genotype\"].unique())\n",
    "            adata_ct = adata_dis_fil_cont[adata_dis_fil_cont.obs[\"predicted_cell_type\"] == cell_type] # iterate through each cell type\n",
    "            if len(adata_ct.obs[\"genotype\"].value_counts()) < 2:\n",
    "                continue\n",
    "            #sc.pp.filter_genes(adata_ct, min_counts=1)\n",
    "            #print(adata_ct)\n",
    "            sc.pp.normalize_total(adata_ct)\n",
    "            sc.pp.log1p(adata_ct)\n",
    "            print(cell_type, geno, cont)\n",
    "            print(adata_ct.obs[\"genotype\"].value_counts())\n",
    "\n",
    "            sc.tl.rank_genes_groups(adata_ct, 'genotype', groups=[cont], method='wilcoxon', key_added = \"wilcoxon\")\n",
    "            #print(adata_ct)\n",
    "\n",
    "            # Accessing dictionaries from adata_ct.uns['wilcoxon']\n",
    "            wilcoxon_results = adata_ct.uns['wilcoxon']\n",
    "\n",
    "            # Extracting names, pvals_adj, and logfoldchanges\n",
    "            names = list(itertools.chain.from_iterable(wilcoxon_results['names'].tolist()))\n",
    "            pvals = list(itertools.chain.from_iterable(wilcoxon_results['pvals'].tolist()))  \n",
    "            pvals_adj = list(itertools.chain.from_iterable(wilcoxon_results['pvals_adj'].tolist())) \n",
    "            logfoldchanges = list(itertools.chain.from_iterable(wilcoxon_results['logfoldchanges'].tolist())) \n",
    "            \n",
    "            # Creating a DataFrame\n",
    "            results_df = pd.DataFrame({\n",
    "                'Gene': names,\n",
    "                'Log Fold Change': logfoldchanges,\n",
    "                'P-value': pvals,\n",
    "                'Adjusted P-Value': pvals_adj,\n",
    "            })\n",
    "            print(len(results_df))\n",
    "            sc_wilcoxon = results_df\n",
    "            print(len(sc_wilcoxon))\n",
    "            sc_wilcoxon = pd.merge(sc_wilcoxon, var_test, on=\"Gene\", how=\"left\")\n",
    "            print(len(sc_wilcoxon))\n",
    "            sc_wilcoxon = pd.merge(sc_wilcoxon, par_df, on=\"Gene\", how=\"left\")\n",
    "            print(len(sc_wilcoxon))\n",
    "            sc_wilcoxon = sc_wilcoxon.sort_values('Gene')\n",
    "            print(len(sc_wilcoxon))\n",
    "\n",
    "            \n",
    "            #print(sc_wilcoxon)\n",
    "            xxy_xy = add_dataframes(xxy_xy, sc_wilcoxon, cell_type)\n",
    "\n",
    "            # sc_wilcoxon = sc_wilcoxon[sc_wilcoxon[\"Adjusted P-Value\"] < 0.01]\n",
    "            # sc_wilcoxon = sc_wilcoxon.sort_values('Log Fold Change', ascending = False)\n",
    "            # sc_head = sc_wilcoxon.head(20)\n",
    "            # sc_head = sc_head[sc_head[\"Log Fold Change\"] > 0]\n",
    "            # sc_tail = sc_wilcoxon.tail(20)\n",
    "            # sc_tail = sc_tail[sc_tail[\"Log Fold Change\"] < 0]\n",
    "\n",
    "            # sc_wilcoxon_non_sig = results_df\n",
    "            # sc_wilcoxon_non_sig = pd.merge(sc_wilcoxon_non_sig, var_test, on=\"Gene\", how=\"left\")\n",
    "            # sc_wilcoxon_non_sig = pd.merge(sc_wilcoxon_non_sig, par_df, on=\"Gene\", how=\"left\")\n",
    "            # sc_wilcoxon_non_sig = sc_wilcoxon_non_sig.sort_values('Log Fold Change', ascending = False)\n",
    "\n",
    "            # if len(sc_head) < 20:\n",
    "            #     remainder_h = sc_wilcoxon_non_sig.head(20 - len(sc_head))\n",
    "            #     # Combine DataFrames row-wise\n",
    "            #     result_head = pd.concat([sc_head, remainder_h], axis=0, ignore_index=True)\n",
    "            #     result_head.to_csv(f\"D:/newgenes/results/wilcoxon/{cell_type}_{geno}_{cont}_head20.csv\", index=False)\n",
    "\n",
    "            # else:\n",
    "            #     sc_head.to_csv(f\"D:/newgenes/results/wilcoxon/{cell_type}_{geno}_{cont}_head20.csv\", index=False)\n",
    "            \n",
    "            # if len(sc_tail) < 20:\n",
    "            #     remainder_t = sc_wilcoxon_non_sig.tail(20 - len(sc_tail))\n",
    "            #     # Combine DataFrames row-wise\n",
    "            #     result_tail = pd.concat([sc_tail, remainder_t], axis=0, ignore_index=True)\n",
    "            #     result_tail.to_csv(f\"D:/newgenes/results/wilcoxon/{cell_type}_{geno}_{cont}_tail20.csv\", index=False)\n",
    "\n",
    "            # else:\n",
    "            #     sc_tail.to_csv(f\"D:/newgenes/results/wilcoxon/{cell_type}_{geno}_{cont}_tail20.csv\", index=False)\n",
    "\n",
    "            print(f\"Number of statistically significant genes between {geno} and {cont} for cell type: {cell_type}\", len(sc_wilcoxon)) # number of differentially expressed genes that are statistically significant             \n",
    "            # sc_par = sc_wilcoxon_non_sig[sc_wilcoxon_non_sig[\"Is_escape\"] == True]\n",
    "            # sc_par.to_csv(f\"D:/newgenes/results/wilcoxon/{cell_type}_{geno}_{cont}_escape.csv\", index=False)\n",
    "\n",
    "\n",
    "xxy_xy = pd.merge(xxy_xy, var_test, on=\"Gene\", how=\"left\")\n",
    "xxy_xy = pd.merge(xxy_xy, par_df, on=\"Gene\", how=\"left\")\n",
    "xxy_xy.to_csv(\"D:/newgenes/results/wilcoxon/xxy_xy.csv\", index=False)"
   ]
  }
 ],
 "metadata": {
  "language_info": {
   "name": "python"
  }
 },
 "nbformat": 4,
 "nbformat_minor": 2
}
