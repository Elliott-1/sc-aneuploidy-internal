{
 "cells": [
  {
   "cell_type": "code",
   "execution_count": 1,
   "metadata": {},
   "outputs": [],
   "source": [
    "import scanpy as sc\n",
    "#import scanpy.external as sce\n",
    "from scipy.sparse import csr_matrix, vstack\n",
    "from scipy.io import mmread, mmwrite\n",
    "import scanorama\n",
    "import anndata as ad\n",
    "import numpy as np\n",
    "from matplotlib.pyplot import rc_context\n",
    "import pandas as pd\n",
    "from sklearn.neighbors import NearestNeighbors\n",
    "\n",
    "import matplotlib.pyplot as plt\n",
    "import seaborn as sns\n",
    "from scipy.stats import mode\n",
    "\n",
    "from sklearn.metrics.pairwise import cosine_distances"
   ]
  },
  {
   "cell_type": "markdown",
   "metadata": {},
   "source": [
    "This code loads the previously saved AnnData object from the H5AD file \"scanorama_integrated_hvg.h5ad\" into the variable adata. \n",
    "\n",
    "This allows for further analysis without needing to repeat the integration process."
   ]
  },
  {
   "cell_type": "code",
   "execution_count": 2,
   "metadata": {},
   "outputs": [],
   "source": [
    "# Load the H5AD file into an AnnData object\n",
    "adata = ad.read_h5ad('data/scanorama_integrated_hvg.h5ad')"
   ]
  },
  {
   "cell_type": "markdown",
   "metadata": {},
   "source": [
    "This code applies the Leiden clustering algorithm to the AnnData object adata with a resolution parameter of 3. \n",
    "\n",
    "A higher resolution value results in more clusters, allowing for finer granularity in identifying cell populations."
   ]
  },
  {
   "cell_type": "code",
   "execution_count": 17,
   "metadata": {},
   "outputs": [],
   "source": [
    "sc.tl.leiden(adata, resolution=3)"
   ]
  },
  {
   "cell_type": "markdown",
   "metadata": {},
   "source": [
    "This code saves the AnnData object adata, now with Leiden clustering results, to the H5AD file \"scanorama_integrated_leiden_hvg.h5ad\". \n",
    "\n",
    "This preserves the clustering results for future analysis without needing to recompute them."
   ]
  },
  {
   "cell_type": "code",
   "execution_count": 24,
   "metadata": {},
   "outputs": [],
   "source": [
    "adata.write_h5ad(\"data/scanorama_integrated_leiden_hvg.h5ad\")"
   ]
  }
 ],
 "metadata": {
  "kernelspec": {
   "display_name": "Python 3",
   "language": "python",
   "name": "python3"
  },
  "language_info": {
   "codemirror_mode": {
    "name": "ipython",
    "version": 3
   },
   "file_extension": ".py",
   "mimetype": "text/x-python",
   "name": "python",
   "nbconvert_exporter": "python",
   "pygments_lexer": "ipython3",
   "version": "3.9.10"
  }
 },
 "nbformat": 4,
 "nbformat_minor": 2
}
