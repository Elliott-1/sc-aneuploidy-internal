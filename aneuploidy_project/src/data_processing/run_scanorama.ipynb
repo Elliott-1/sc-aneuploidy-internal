{
 "cells": [
  {
   "cell_type": "code",
   "execution_count": 1,
   "metadata": {},
   "outputs": [],
   "source": [
    "import numpy as np\n",
    "import pandas as pd\n",
    "\n",
    "import anndata as ad\n",
    "import scanpy as sc\n",
    "import scanorama"
   ]
  },
  {
   "cell_type": "markdown",
   "metadata": {},
   "source": [
    "Load the preprocessed AnnData objects from their respective H5AD files.  \n",
    "- `cao_adata`: Loaded from `data/cao_hvg_600.h5ad`.  \n",
    "- `dis_adata`: Loaded from `data/dis_hvg.h5ad`.  \n",
    "- `ian_adata`: Loaded from `data/ian_hvg.h5ad`."
   ]
  },
  {
   "cell_type": "code",
   "execution_count": 2,
   "metadata": {},
   "outputs": [],
   "source": [
    "cao_adata = ad.read_h5ad('data/cao_hvg_600.h5ad')\n",
    "dis_adata = ad.read_h5ad('data/dis_hvg.h5ad')\n",
    "ian_adata = ad.read_h5ad('data/ian_hvg.h5ad')"
   ]
  },
  {
   "cell_type": "markdown",
   "metadata": {},
   "source": [
    "This code creates a list called adata_list that contains three AnnData objects: cao_adata, dis_adata, and ian_adata. \n",
    "\n",
    "These objects likely represent single-cell datasets from different sources or conditions."
   ]
  },
  {
   "cell_type": "code",
   "execution_count": 9,
   "metadata": {},
   "outputs": [
    {
     "data": {
      "text/plain": [
       "5.949708260587717"
      ]
     },
     "execution_count": 9,
     "metadata": {},
     "output_type": "execute_result"
    }
   ],
   "source": [
    "adata_list = [cao_adata, dis_adata, ian_adata]"
   ]
  },
  {
   "cell_type": "markdown",
   "metadata": {},
   "source": [
    "This code applies Scanorama's batch correction to the list of AnnData objects stored in adata_list. \n",
    "\n",
    "It integrates the datasets to correct for batch effects while preserving biological variability."
   ]
  },
  {
   "cell_type": "code",
   "execution_count": null,
   "metadata": {},
   "outputs": [],
   "source": [
    "scanorama.integrate_scanpy(adata_list)"
   ]
  },
  {
   "cell_type": "markdown",
   "metadata": {},
   "source": [
    "This code concatenates the list of AnnData objects in adata_list into a single AnnData object, int_adata, using Scanpy's sc.concat function. The index_unique='_' parameter ensures that duplicate observation names from different datasets are made unique by appending an underscore."
   ]
  },
  {
   "cell_type": "code",
   "execution_count": null,
   "metadata": {},
   "outputs": [],
   "source": [
    "int_adata = sc.concat(adata_list, index_unique='_')"
   ]
  },
  {
   "cell_type": "markdown",
   "metadata": {},
   "source": [
    "This code extracts the Scanorama-integrated feature matrices (X_scanorama) from each AnnData object in adata_list and stores them in the list scanorama_int. It then concatenates these matrices into a single array and assigns it to the \"Scanorama\" slot in int_adata.obsm, making the integrated representation accessible for downstream analysis."
   ]
  },
  {
   "cell_type": "code",
   "execution_count": null,
   "metadata": {},
   "outputs": [],
   "source": [
    "# Get all the integrated matrices.\n",
    "scanorama_int = [ad.obsm['X_scanorama'] for ad in adata_list]\n",
    "\n",
    "# make into one matrix.\n",
    "int_adata.obsm[\"Scanorama\"] = np.concatenate(scanorama_int)"
   ]
  },
  {
   "cell_type": "markdown",
   "metadata": {},
   "source": [
    "This code saves the integrated AnnData object int_adata to an H5AD file at the specified path. The file \"scanorama_integrated_hvg.h5ad\" will store the integrated data, allowing for future loading and analysis without needing to re-run the integration process."
   ]
  },
  {
   "cell_type": "code",
   "execution_count": null,
   "metadata": {},
   "outputs": [],
   "source": [
    "# Write the AnnData object to an H5AD file\n",
    "int_adata.write_h5ad(\"D:/newgenes/data/to_integrate_full/scanorama_integrated_hvg.h5ad\")"
   ]
  }
 ],
 "metadata": {
  "kernelspec": {
   "display_name": "Python 3",
   "language": "python",
   "name": "python3"
  },
  "language_info": {
   "codemirror_mode": {
    "name": "ipython",
    "version": 3
   },
   "file_extension": ".py",
   "mimetype": "text/x-python",
   "name": "python",
   "nbconvert_exporter": "python",
   "pygments_lexer": "ipython3",
   "version": "3.9.10"
  }
 },
 "nbformat": 4,
 "nbformat_minor": 2
}
